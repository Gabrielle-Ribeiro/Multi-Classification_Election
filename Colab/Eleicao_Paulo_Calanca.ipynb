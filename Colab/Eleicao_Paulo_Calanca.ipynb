{
  "nbformat": 4,
  "nbformat_minor": 0,
  "metadata": {
    "colab": {
      "name": "Eleicao_Paulo_Calanca.ipynb",
      "provenance": [],
      "collapsed_sections": []
    },
    "kernelspec": {
      "name": "python3",
      "display_name": "Python 3"
    },
    "language_info": {
      "name": "python"
    }
  },
  "cells": [
    {
      "cell_type": "markdown",
      "source": [
        "# Etapa 1: Importação das bibliotecas"
      ],
      "metadata": {
        "id": "DJyh_BfHNz1_"
      }
    },
    {
      "cell_type": "code",
      "source": [
        "# Imports\n",
        "import numpy as np\n",
        "import pandas as pd\n",
        "from sklearn import preprocessing\n",
        "from sklearn.model_selection import train_test_split\n",
        "import tensorflow as tf\n",
        "from tensorflow.keras import utils as np_utils\n",
        "from tensorflow import keras\n",
        "from keras.models import Sequential\n",
        "from keras.layers import Dense\n",
        "import os\n",
        "from keras.wrappers.scikit_learn import KerasClassifier\n",
        "from keras.utils import np_utils\n",
        "from sklearn.model_selection import cross_val_score\n",
        "from sklearn.model_selection import KFold\n",
        "from sklearn.preprocessing import LabelEncoder\n",
        "from sklearn.pipeline import Pipeline\n",
        "\n"
      ],
      "metadata": {
        "id": "xMDVkEEdN2e-"
      },
      "execution_count": 1,
      "outputs": []
    },
    {
      "cell_type": "markdown",
      "source": [
        "# Etapa 2: Carregamento e exploração da base de dados\n"
      ],
      "metadata": {
        "id": "kDYFw_DlOKH_"
      }
    },
    {
      "cell_type": "markdown",
      "source": [
        "## Ler base da dados"
      ],
      "metadata": {
        "id": "slvRbuL1tfTd"
      }
    },
    {
      "cell_type": "code",
      "source": [
        "from google.colab import drive\n",
        "drive.mount('/content/drive')"
      ],
      "metadata": {
        "colab": {
          "base_uri": "https://localhost:8080/"
        },
        "id": "rqldhqgdOLxc",
        "outputId": "89d38f04-bfe4-4f63-eb9d-58444c5e218e"
      },
      "execution_count": 2,
      "outputs": [
        {
          "output_type": "stream",
          "name": "stdout",
          "text": [
            "Mounted at /content/drive\n"
          ]
        }
      ]
    },
    {
      "cell_type": "code",
      "source": [
        "candidatos = pd.read_csv('/content/drive/MyDrive/P2/consulta_cand_2020_RJ.csv',sep=';',encoding = \"ISO-8859-1\")\n",
        "receitas = pd.read_csv('/content/drive/MyDrive/P2/receitas_candidatos_2020_RJ.csv',sep=';',encoding = \"ISO-8859-1\")\n",
        "despesas = pd.read_csv('/content/drive/MyDrive/P2/despesas_contratadas_candidatos_2020_RJ.csv',sep=';',encoding = \"ISO-8859-1\")\n"
      ],
      "metadata": {
        "id": "n00rRLpyOwEg"
      },
      "execution_count": 3,
      "outputs": []
    },
    {
      "cell_type": "markdown",
      "source": [
        "## Fazendo percebi que o dataset realmente ficara grande, então vou deixar comentado algumas infos"
      ],
      "metadata": {
        "id": "xvRVBhzAriIw"
      }
    },
    {
      "cell_type": "code",
      "source": [
        "#candidatos.head()"
      ],
      "metadata": {
        "id": "PUG_AuWazeXP"
      },
      "execution_count": 4,
      "outputs": []
    },
    {
      "cell_type": "code",
      "source": [
        "#candidatos.info()"
      ],
      "metadata": {
        "id": "02eP_6FJOENu"
      },
      "execution_count": 5,
      "outputs": []
    },
    {
      "cell_type": "code",
      "source": [
        "#receitas.info()"
      ],
      "metadata": {
        "id": "E5hi5jzpOLud"
      },
      "execution_count": 6,
      "outputs": []
    },
    {
      "cell_type": "code",
      "source": [
        "#despesas.info()"
      ],
      "metadata": {
        "id": "lITFEEEWOU3W"
      },
      "execution_count": 7,
      "outputs": []
    },
    {
      "cell_type": "code",
      "source": [
        "candidatos.columns"
      ],
      "metadata": {
        "id": "f1vyzLWoK7Tw",
        "outputId": "01552209-5ada-4651-910b-d242a4f5596b",
        "colab": {
          "base_uri": "https://localhost:8080/"
        }
      },
      "execution_count": 8,
      "outputs": [
        {
          "output_type": "execute_result",
          "data": {
            "text/plain": [
              "Index(['SG_UE', 'NM_UE', 'CD_CARGO', 'DS_CARGO', 'NR_CANDIDATO',\n",
              "       'NM_CANDIDATO', 'NM_URNA_CANDIDATO', 'NR_CPF_CANDIDATO', 'NM_EMAIL',\n",
              "       'TP_AGREMIACAO', 'NR_PARTIDO', 'SG_PARTIDO', 'NM_PARTIDO',\n",
              "       'DS_COMPOSICAO_COLIGACAO', 'CD_NACIONALIDADE', 'NR_IDADE_DATA_POSSE',\n",
              "       'DS_GENERO', 'DS_GRAU_INSTRUCAO', 'DS_ESTADO_CIVIL', 'DS_COR_RACA',\n",
              "       'DS_OCUPACAO', 'VR_DESPESA_MAX_CAMPANHA', 'DS_SIT_TOT_TURNO',\n",
              "       'ST_REELEICAO', 'ST_DECLARAR_BENS', 'NR_PROTOCOLO_CANDIDATURA',\n",
              "       'NR_PROCESSO', 'CD_SITUACAO_CANDIDATO_PLEITO',\n",
              "       'DS_SITUACAO_CANDIDATO_PLEITO', 'CD_SITUACAO_CANDIDATO_URNA',\n",
              "       'DS_SITUACAO_CANDIDATO_URNA', 'ST_CANDIDATO_INSERIDO_URNA,,,,'],\n",
              "      dtype='object')"
            ]
          },
          "metadata": {},
          "execution_count": 8
        }
      ]
    },
    {
      "cell_type": "markdown",
      "source": [
        "## Peço um ponto de atenção aqui, não sei se a formatação teve problemas quando baixei o arquivo. No resultado esperado que estava no colab não tinha esse excesso de virgulas depois da ultima coluna (do dataset candidatos), então quando for executar o meu arquivo e não estiver utilizando um dataset igual talvez tenha erros, por isso deixarei meus datasets no classroom tambem. pois como não sei se esse erro tava igual para todos ou foi problema apos meu download."
      ],
      "metadata": {
        "id": "-Mwzj6Nz2wKN"
      }
    },
    {
      "cell_type": "code",
      "source": [
        "candidatos = candidatos.rename(columns = {'ST_CANDIDATO_INSERIDO_URNA,,,,': 'ST_CANDIDATO_INSERIDO_URNA'}, inplace = False)"
      ],
      "metadata": {
        "id": "i4rnOtGvlIxY"
      },
      "execution_count": 9,
      "outputs": []
    },
    {
      "cell_type": "code",
      "source": [
        "candidatos.columns"
      ],
      "metadata": {
        "id": "zUK3d1GgvSf6",
        "colab": {
          "base_uri": "https://localhost:8080/"
        },
        "outputId": "e0cb8c20-c75f-44e7-890d-b173de501931"
      },
      "execution_count": 10,
      "outputs": [
        {
          "output_type": "execute_result",
          "data": {
            "text/plain": [
              "Index(['SG_UE', 'NM_UE', 'CD_CARGO', 'DS_CARGO', 'NR_CANDIDATO',\n",
              "       'NM_CANDIDATO', 'NM_URNA_CANDIDATO', 'NR_CPF_CANDIDATO', 'NM_EMAIL',\n",
              "       'TP_AGREMIACAO', 'NR_PARTIDO', 'SG_PARTIDO', 'NM_PARTIDO',\n",
              "       'DS_COMPOSICAO_COLIGACAO', 'CD_NACIONALIDADE', 'NR_IDADE_DATA_POSSE',\n",
              "       'DS_GENERO', 'DS_GRAU_INSTRUCAO', 'DS_ESTADO_CIVIL', 'DS_COR_RACA',\n",
              "       'DS_OCUPACAO', 'VR_DESPESA_MAX_CAMPANHA', 'DS_SIT_TOT_TURNO',\n",
              "       'ST_REELEICAO', 'ST_DECLARAR_BENS', 'NR_PROTOCOLO_CANDIDATURA',\n",
              "       'NR_PROCESSO', 'CD_SITUACAO_CANDIDATO_PLEITO',\n",
              "       'DS_SITUACAO_CANDIDATO_PLEITO', 'CD_SITUACAO_CANDIDATO_URNA',\n",
              "       'DS_SITUACAO_CANDIDATO_URNA', 'ST_CANDIDATO_INSERIDO_URNA'],\n",
              "      dtype='object')"
            ]
          },
          "metadata": {},
          "execution_count": 10
        }
      ]
    },
    {
      "cell_type": "code",
      "source": [
        "columns = ['NM_URNA_CANDIDATO', 'SG_PARTIDO','VR_DESPESA_MAX_CAMPANHA',\n",
        "       'ST_REELEICAO', 'ST_DECLARAR_BENS', 'NR_PROTOCOLO_CANDIDATURA',\n",
        "       'NR_PROCESSO', 'CD_SITUACAO_CANDIDATO_PLEITO',\n",
        "       'DS_SITUACAO_CANDIDATO_PLEITO', 'CD_SITUACAO_CANDIDATO_URNA',\n",
        "       'DS_SITUACAO_CANDIDATO_URNA', 'ST_CANDIDATO_INSERIDO_URNA']\n",
        "candidatos.drop(columns, inplace=True, axis=1)"
      ],
      "metadata": {
        "id": "LWJLq7CFlc9A"
      },
      "execution_count": 11,
      "outputs": []
    },
    {
      "cell_type": "code",
      "source": [
        "candidatos.columns"
      ],
      "metadata": {
        "colab": {
          "base_uri": "https://localhost:8080/"
        },
        "id": "AxMI1uM9mIbA",
        "outputId": "161f10b4-45cb-46bb-874d-39028e2fcdcd"
      },
      "execution_count": 12,
      "outputs": [
        {
          "output_type": "execute_result",
          "data": {
            "text/plain": [
              "Index(['SG_UE', 'NM_UE', 'CD_CARGO', 'DS_CARGO', 'NR_CANDIDATO',\n",
              "       'NM_CANDIDATO', 'NR_CPF_CANDIDATO', 'NM_EMAIL', 'TP_AGREMIACAO',\n",
              "       'NR_PARTIDO', 'NM_PARTIDO', 'DS_COMPOSICAO_COLIGACAO',\n",
              "       'CD_NACIONALIDADE', 'NR_IDADE_DATA_POSSE', 'DS_GENERO',\n",
              "       'DS_GRAU_INSTRUCAO', 'DS_ESTADO_CIVIL', 'DS_COR_RACA', 'DS_OCUPACAO',\n",
              "       'DS_SIT_TOT_TURNO'],\n",
              "      dtype='object')"
            ]
          },
          "metadata": {},
          "execution_count": 12
        }
      ]
    },
    {
      "cell_type": "code",
      "source": [
        "#deletar colunas"
      ],
      "metadata": {
        "id": "YyrvZbXjvbli"
      },
      "execution_count": 13,
      "outputs": []
    },
    {
      "cell_type": "code",
      "source": [
        "candidatos.columns"
      ],
      "metadata": {
        "colab": {
          "base_uri": "https://localhost:8080/"
        },
        "id": "LAzNHx9Txs91",
        "outputId": "b8934d59-cc72-48b3-ae65-eb50bd4d29e7"
      },
      "execution_count": 14,
      "outputs": [
        {
          "output_type": "execute_result",
          "data": {
            "text/plain": [
              "Index(['SG_UE', 'NM_UE', 'CD_CARGO', 'DS_CARGO', 'NR_CANDIDATO',\n",
              "       'NM_CANDIDATO', 'NR_CPF_CANDIDATO', 'NM_EMAIL', 'TP_AGREMIACAO',\n",
              "       'NR_PARTIDO', 'NM_PARTIDO', 'DS_COMPOSICAO_COLIGACAO',\n",
              "       'CD_NACIONALIDADE', 'NR_IDADE_DATA_POSSE', 'DS_GENERO',\n",
              "       'DS_GRAU_INSTRUCAO', 'DS_ESTADO_CIVIL', 'DS_COR_RACA', 'DS_OCUPACAO',\n",
              "       'DS_SIT_TOT_TURNO'],\n",
              "      dtype='object')"
            ]
          },
          "metadata": {},
          "execution_count": 14
        }
      ]
    },
    {
      "cell_type": "code",
      "source": [
        "candidatos.head()"
      ],
      "metadata": {
        "colab": {
          "base_uri": "https://localhost:8080/",
          "height": 444
        },
        "id": "9Bkz3X78meeg",
        "outputId": "b4ee24cf-231e-4087-eb4d-331209e40338"
      },
      "execution_count": 15,
      "outputs": [
        {
          "output_type": "execute_result",
          "data": {
            "text/html": [
              "\n",
              "  <div id=\"df-8d33fd68-ca28-4388-b4ef-269c53b00068\">\n",
              "    <div class=\"colab-df-container\">\n",
              "      <div>\n",
              "<style scoped>\n",
              "    .dataframe tbody tr th:only-of-type {\n",
              "        vertical-align: middle;\n",
              "    }\n",
              "\n",
              "    .dataframe tbody tr th {\n",
              "        vertical-align: top;\n",
              "    }\n",
              "\n",
              "    .dataframe thead th {\n",
              "        text-align: right;\n",
              "    }\n",
              "</style>\n",
              "<table border=\"1\" class=\"dataframe\">\n",
              "  <thead>\n",
              "    <tr style=\"text-align: right;\">\n",
              "      <th></th>\n",
              "      <th>SG_UE</th>\n",
              "      <th>NM_UE</th>\n",
              "      <th>CD_CARGO</th>\n",
              "      <th>DS_CARGO</th>\n",
              "      <th>NR_CANDIDATO</th>\n",
              "      <th>NM_CANDIDATO</th>\n",
              "      <th>NR_CPF_CANDIDATO</th>\n",
              "      <th>NM_EMAIL</th>\n",
              "      <th>TP_AGREMIACAO</th>\n",
              "      <th>NR_PARTIDO</th>\n",
              "      <th>NM_PARTIDO</th>\n",
              "      <th>DS_COMPOSICAO_COLIGACAO</th>\n",
              "      <th>CD_NACIONALIDADE</th>\n",
              "      <th>NR_IDADE_DATA_POSSE</th>\n",
              "      <th>DS_GENERO</th>\n",
              "      <th>DS_GRAU_INSTRUCAO</th>\n",
              "      <th>DS_ESTADO_CIVIL</th>\n",
              "      <th>DS_COR_RACA</th>\n",
              "      <th>DS_OCUPACAO</th>\n",
              "      <th>DS_SIT_TOT_TURNO</th>\n",
              "    </tr>\n",
              "  </thead>\n",
              "  <tbody>\n",
              "    <tr>\n",
              "      <th>0</th>\n",
              "      <td>58246</td>\n",
              "      <td>PINHEIRAL</td>\n",
              "      <td>13</td>\n",
              "      <td>VEREADOR</td>\n",
              "      <td>51321</td>\n",
              "      <td>ELIVELTON DE ALMEIDA SILVA</td>\n",
              "      <td>4175260757</td>\n",
              "      <td>ELIVELTON.ALMEIDA@YAHOO.COM.BR</td>\n",
              "      <td>PARTIDO ISOLADO</td>\n",
              "      <td>51</td>\n",
              "      <td>PATRIOTA</td>\n",
              "      <td>PATRIOTA</td>\n",
              "      <td>1</td>\n",
              "      <td>42</td>\n",
              "      <td>MASCULINO</td>\n",
              "      <td>ENSINO FUNDAMENTAL INCOMPLETO</td>\n",
              "      <td>CASADO(A)</td>\n",
              "      <td>PRETA</td>\n",
              "      <td>MOTORISTA DE VEÃCULOS DE TRANSPORTE DE CARGA</td>\n",
              "      <td>NÃO ELEITO</td>\n",
              "    </tr>\n",
              "    <tr>\n",
              "      <th>1</th>\n",
              "      <td>58491</td>\n",
              "      <td>MAGÃ</td>\n",
              "      <td>13</td>\n",
              "      <td>VEREADOR</td>\n",
              "      <td>27566</td>\n",
              "      <td>LAÃS SEPULVEDA MENESES</td>\n",
              "      <td>13642617743</td>\n",
              "      <td>LASEPULVEDA.03@GMAIL.COM</td>\n",
              "      <td>PARTIDO ISOLADO</td>\n",
              "      <td>27</td>\n",
              "      <td>DEMOCRACIA CRISTÃ</td>\n",
              "      <td>DC</td>\n",
              "      <td>1</td>\n",
              "      <td>28</td>\n",
              "      <td>FEMININO</td>\n",
              "      <td>SUPERIOR COMPLETO</td>\n",
              "      <td>SOLTEIRO(A)</td>\n",
              "      <td>BRANCA</td>\n",
              "      <td>ESTUDANTE,BOLSISTA,ESTAGIÃRIO E ASSEMELHADOS</td>\n",
              "      <td>SUPLENTE</td>\n",
              "    </tr>\n",
              "    <tr>\n",
              "      <th>2</th>\n",
              "      <td>58467</td>\n",
              "      <td>MESQUITA</td>\n",
              "      <td>13</td>\n",
              "      <td>VEREADOR</td>\n",
              "      <td>55100</td>\n",
              "      <td>ALEXANDRE JOSÃ DE LIRA</td>\n",
              "      <td>2300609789</td>\n",
              "      <td>ALEXANDREAGAPE3@GMAIL.COM</td>\n",
              "      <td>PARTIDO ISOLADO</td>\n",
              "      <td>55</td>\n",
              "      <td>PARTIDO SOCIAL DEMOCRÃTICO</td>\n",
              "      <td>PSD</td>\n",
              "      <td>1</td>\n",
              "      <td>49</td>\n",
              "      <td>MASCULINO</td>\n",
              "      <td>ENSINO MÃDIO INCOMPLETO</td>\n",
              "      <td>CASADO(A)</td>\n",
              "      <td>PARDA</td>\n",
              "      <td>EMPRESÃRIO</td>\n",
              "      <td>SUPLENTE</td>\n",
              "    </tr>\n",
              "    <tr>\n",
              "      <th>3</th>\n",
              "      <td>58122</td>\n",
              "      <td>QUEIMADOS</td>\n",
              "      <td>13</td>\n",
              "      <td>VEREADOR</td>\n",
              "      <td>33777</td>\n",
              "      <td>ALEXANDER TEIXEIRA DA SILVA</td>\n",
              "      <td>7769437741</td>\n",
              "      <td>PRALEXANDERTEIXEIRA@GMAIL.COM</td>\n",
              "      <td>PARTIDO ISOLADO</td>\n",
              "      <td>33</td>\n",
              "      <td>PARTIDO DA MOBILIZAÃÃO NACIONAL</td>\n",
              "      <td>PMN</td>\n",
              "      <td>1</td>\n",
              "      <td>42</td>\n",
              "      <td>MASCULINO</td>\n",
              "      <td>ENSINO MÃDIO COMPLETO</td>\n",
              "      <td>CASADO(A)</td>\n",
              "      <td>PARDA</td>\n",
              "      <td>OPERADOR DE APARELHOS DE PRODUÃÃO INDUSTRIAL</td>\n",
              "      <td>NÃO ELEITO</td>\n",
              "    </tr>\n",
              "    <tr>\n",
              "      <th>4</th>\n",
              "      <td>58599</td>\n",
              "      <td>MIRACEMA</td>\n",
              "      <td>13</td>\n",
              "      <td>VEREADOR</td>\n",
              "      <td>35222</td>\n",
              "      <td>FLAVIO JOSÃ CRUZ FRANCO</td>\n",
              "      <td>73696757772</td>\n",
              "      <td>PMBMIRACEMA35@GMAIL.COM</td>\n",
              "      <td>PARTIDO ISOLADO</td>\n",
              "      <td>35</td>\n",
              "      <td>PARTIDO DA MULHER BRASILEIRA</td>\n",
              "      <td>PMB</td>\n",
              "      <td>1</td>\n",
              "      <td>58</td>\n",
              "      <td>MASCULINO</td>\n",
              "      <td>ENSINO MÃDIO COMPLETO</td>\n",
              "      <td>DIVORCIADO(A)</td>\n",
              "      <td>BRANCA</td>\n",
              "      <td>CONTADOR</td>\n",
              "      <td>NÃO ELEITO</td>\n",
              "    </tr>\n",
              "  </tbody>\n",
              "</table>\n",
              "</div>\n",
              "      <button class=\"colab-df-convert\" onclick=\"convertToInteractive('df-8d33fd68-ca28-4388-b4ef-269c53b00068')\"\n",
              "              title=\"Convert this dataframe to an interactive table.\"\n",
              "              style=\"display:none;\">\n",
              "        \n",
              "  <svg xmlns=\"http://www.w3.org/2000/svg\" height=\"24px\"viewBox=\"0 0 24 24\"\n",
              "       width=\"24px\">\n",
              "    <path d=\"M0 0h24v24H0V0z\" fill=\"none\"/>\n",
              "    <path d=\"M18.56 5.44l.94 2.06.94-2.06 2.06-.94-2.06-.94-.94-2.06-.94 2.06-2.06.94zm-11 1L8.5 8.5l.94-2.06 2.06-.94-2.06-.94L8.5 2.5l-.94 2.06-2.06.94zm10 10l.94 2.06.94-2.06 2.06-.94-2.06-.94-.94-2.06-.94 2.06-2.06.94z\"/><path d=\"M17.41 7.96l-1.37-1.37c-.4-.4-.92-.59-1.43-.59-.52 0-1.04.2-1.43.59L10.3 9.45l-7.72 7.72c-.78.78-.78 2.05 0 2.83L4 21.41c.39.39.9.59 1.41.59.51 0 1.02-.2 1.41-.59l7.78-7.78 2.81-2.81c.8-.78.8-2.07 0-2.86zM5.41 20L4 18.59l7.72-7.72 1.47 1.35L5.41 20z\"/>\n",
              "  </svg>\n",
              "      </button>\n",
              "      \n",
              "  <style>\n",
              "    .colab-df-container {\n",
              "      display:flex;\n",
              "      flex-wrap:wrap;\n",
              "      gap: 12px;\n",
              "    }\n",
              "\n",
              "    .colab-df-convert {\n",
              "      background-color: #E8F0FE;\n",
              "      border: none;\n",
              "      border-radius: 50%;\n",
              "      cursor: pointer;\n",
              "      display: none;\n",
              "      fill: #1967D2;\n",
              "      height: 32px;\n",
              "      padding: 0 0 0 0;\n",
              "      width: 32px;\n",
              "    }\n",
              "\n",
              "    .colab-df-convert:hover {\n",
              "      background-color: #E2EBFA;\n",
              "      box-shadow: 0px 1px 2px rgba(60, 64, 67, 0.3), 0px 1px 3px 1px rgba(60, 64, 67, 0.15);\n",
              "      fill: #174EA6;\n",
              "    }\n",
              "\n",
              "    [theme=dark] .colab-df-convert {\n",
              "      background-color: #3B4455;\n",
              "      fill: #D2E3FC;\n",
              "    }\n",
              "\n",
              "    [theme=dark] .colab-df-convert:hover {\n",
              "      background-color: #434B5C;\n",
              "      box-shadow: 0px 1px 3px 1px rgba(0, 0, 0, 0.15);\n",
              "      filter: drop-shadow(0px 1px 2px rgba(0, 0, 0, 0.3));\n",
              "      fill: #FFFFFF;\n",
              "    }\n",
              "  </style>\n",
              "\n",
              "      <script>\n",
              "        const buttonEl =\n",
              "          document.querySelector('#df-8d33fd68-ca28-4388-b4ef-269c53b00068 button.colab-df-convert');\n",
              "        buttonEl.style.display =\n",
              "          google.colab.kernel.accessAllowed ? 'block' : 'none';\n",
              "\n",
              "        async function convertToInteractive(key) {\n",
              "          const element = document.querySelector('#df-8d33fd68-ca28-4388-b4ef-269c53b00068');\n",
              "          const dataTable =\n",
              "            await google.colab.kernel.invokeFunction('convertToInteractive',\n",
              "                                                     [key], {});\n",
              "          if (!dataTable) return;\n",
              "\n",
              "          const docLinkHtml = 'Like what you see? Visit the ' +\n",
              "            '<a target=\"_blank\" href=https://colab.research.google.com/notebooks/data_table.ipynb>data table notebook</a>'\n",
              "            + ' to learn more about interactive tables.';\n",
              "          element.innerHTML = '';\n",
              "          dataTable['output_type'] = 'display_data';\n",
              "          await google.colab.output.renderOutput(dataTable, element);\n",
              "          const docLink = document.createElement('div');\n",
              "          docLink.innerHTML = docLinkHtml;\n",
              "          element.appendChild(docLink);\n",
              "        }\n",
              "      </script>\n",
              "    </div>\n",
              "  </div>\n",
              "  "
            ],
            "text/plain": [
              "   SG_UE  ... DS_SIT_TOT_TURNO\n",
              "0  58246  ...      NÃO ELEITO\n",
              "1  58491  ...         SUPLENTE\n",
              "2  58467  ...         SUPLENTE\n",
              "3  58122  ...      NÃO ELEITO\n",
              "4  58599  ...      NÃO ELEITO\n",
              "\n",
              "[5 rows x 20 columns]"
            ]
          },
          "metadata": {},
          "execution_count": 15
        }
      ]
    },
    {
      "cell_type": "markdown",
      "source": [
        "##Carregar apenas os dados do Municipio pelo Cargo"
      ],
      "metadata": {
        "id": "GsOZr08_tnaa"
      }
    },
    {
      "cell_type": "markdown",
      "source": [
        "###Criação variavel para caro e Municipio"
      ],
      "metadata": {
        "id": "KgxOKnzLMU2a"
      }
    },
    {
      "cell_type": "code",
      "source": [
        "cargo = 'VEREADOR'\n",
        "municipio = 'CAMPOS DOS GOYTACAZES'\n"
      ],
      "metadata": {
        "id": "OmcxWmU6ou1g"
      },
      "execution_count": 16,
      "outputs": []
    },
    {
      "cell_type": "markdown",
      "source": [
        "#Aqui eu notei que os dados estão desbalanciados, mais a frente irei utilizar uma tecnica para balanciar e não ter uma \"Falsa acuracia\" pois como um diferença enorma de dados o modelo ira acertar 90% so dizendo que o candidato é suplente."
      ],
      "metadata": {
        "id": "NSRhfuJlR8bU"
      }
    },
    {
      "cell_type": "code",
      "source": [
        "df_canditado_mun = candidatos[(candidatos['NM_UE']==municipio) & (candidatos['DS_CARGO']==cargo) ]#\n",
        "df_canditado_mun['DS_SIT_TOT_TURNO'].value_counts() #"
      ],
      "metadata": {
        "colab": {
          "base_uri": "https://localhost:8080/"
        },
        "id": "r2zK97thoOdI",
        "outputId": "90a4b24b-4e05-4eed-8043-c0b108980bad"
      },
      "execution_count": 17,
      "outputs": [
        {
          "output_type": "execute_result",
          "data": {
            "text/plain": [
              "SUPLENTE             494\n",
              "NÃO ELEITO          278\n",
              "#NULO#                21\n",
              "ELEITO POR QP         13\n",
              "ELEITO POR MÃDIA     12\n",
              "Name: DS_SIT_TOT_TURNO, dtype: int64"
            ]
          },
          "metadata": {},
          "execution_count": 17
        }
      ]
    },
    {
      "cell_type": "markdown",
      "source": [
        "Criar Dataframe com somente Candidatos de Campos"
      ],
      "metadata": {
        "id": "-nGRE8k9MedB"
      }
    },
    {
      "cell_type": "markdown",
      "source": [
        "### Não repeti com os valores da celula anterior pois Notei que os Dataframes tem \"Strings escritas diferentes\"(VEREADOR != Vereador) pelo python ser case sensistive isso poderar atrapalhar, so trocarei caso seja encessario"
      ],
      "metadata": {
        "id": "AhMkw7_Utk39"
      }
    },
    {
      "cell_type": "markdown",
      "source": [
        "Deixo essa vizualização comentada pois a resolução estara muito repetitiva, então deixarei so o essencial sem comentar, mas caso queria visualizar retire o \"#\""
      ],
      "metadata": {
        "id": "Xm_Sx9ut3FDk"
      }
    },
    {
      "cell_type": "code",
      "source": [
        "df_receita_mun = receitas[(receitas['NM_UE']=='CAMPOS DOS GOYTACAZES') & (receitas['DS_CARGO']=='Vereador')]\n",
        "#df_receita_mun.head()"
      ],
      "metadata": {
        "id": "8ENudKG0scJf"
      },
      "execution_count": 18,
      "outputs": []
    },
    {
      "cell_type": "code",
      "source": [
        "df_despesa_mun = despesas[(despesas['NM_UE']=='CAMPOS DOS GOYTACAZES') & (despesas['DS_CARGO']=='Vereador')]\n",
        "#df_despesa_mun.head()"
      ],
      "metadata": {
        "id": "Gwg_kZWHuT3v"
      },
      "execution_count": 19,
      "outputs": []
    },
    {
      "cell_type": "markdown",
      "source": [
        "## Determinar o valor total que cada Candidato  de receita e despesa contratada"
      ],
      "metadata": {
        "id": "_YmG3QH7t2DG"
      }
    },
    {
      "cell_type": "code",
      "source": [
        "df_receita_mun['VR_RECEITA'] = df_receita_mun['VR_RECEITA'].apply(lambda x: float(x.split()[0].replace(',', '.')))\n",
        "df_despesa_mun['VR_DESPESA_CONTRATADA'] = df_despesa_mun['VR_DESPESA_CONTRATADA'].apply(lambda x: float(x.split()[0].replace(',', '.')))"
      ],
      "metadata": {
        "id": "aMFgndAsCTCQ",
        "colab": {
          "base_uri": "https://localhost:8080/"
        },
        "outputId": "ef7ffa5e-bc69-4dd6-db0c-92064b504238"
      },
      "execution_count": 20,
      "outputs": [
        {
          "output_type": "stream",
          "name": "stderr",
          "text": [
            "/usr/local/lib/python3.7/dist-packages/ipykernel_launcher.py:1: SettingWithCopyWarning: \n",
            "A value is trying to be set on a copy of a slice from a DataFrame.\n",
            "Try using .loc[row_indexer,col_indexer] = value instead\n",
            "\n",
            "See the caveats in the documentation: https://pandas.pydata.org/pandas-docs/stable/user_guide/indexing.html#returning-a-view-versus-a-copy\n",
            "  \"\"\"Entry point for launching an IPython kernel.\n",
            "/usr/local/lib/python3.7/dist-packages/ipykernel_launcher.py:2: SettingWithCopyWarning: \n",
            "A value is trying to be set on a copy of a slice from a DataFrame.\n",
            "Try using .loc[row_indexer,col_indexer] = value instead\n",
            "\n",
            "See the caveats in the documentation: https://pandas.pydata.org/pandas-docs/stable/user_guide/indexing.html#returning-a-view-versus-a-copy\n",
            "  \n"
          ]
        }
      ]
    },
    {
      "cell_type": "code",
      "source": [
        "receitas_columns = df_receita_mun[['NR_CPF_CANDIDATO','VR_RECEITA']]\n",
        "soma_cand_receita = receitas_columns.groupby('NR_CPF_CANDIDATO',as_index=False)['VR_RECEITA'].sum()#\n",
        "soma_cand_receita.info()"
      ],
      "metadata": {
        "colab": {
          "base_uri": "https://localhost:8080/"
        },
        "id": "aPq3Jbuyusen",
        "outputId": "babc7519-f5d2-451d-ce02-98f5cd535fa2"
      },
      "execution_count": 21,
      "outputs": [
        {
          "output_type": "stream",
          "name": "stdout",
          "text": [
            "<class 'pandas.core.frame.DataFrame'>\n",
            "Int64Index: 792 entries, 0 to 791\n",
            "Data columns (total 2 columns):\n",
            " #   Column            Non-Null Count  Dtype  \n",
            "---  ------            --------------  -----  \n",
            " 0   NR_CPF_CANDIDATO  792 non-null    int64  \n",
            " 1   VR_RECEITA        792 non-null    float64\n",
            "dtypes: float64(1), int64(1)\n",
            "memory usage: 18.6 KB\n"
          ]
        }
      ]
    },
    {
      "cell_type": "code",
      "source": [
        "despesas_columns = df_despesa_mun[['NR_CPF_CANDIDATO','VR_DESPESA_CONTRATADA']]\n",
        "soma_cand_despesa = despesas_columns.groupby('NR_CPF_CANDIDATO',as_index=False)['VR_DESPESA_CONTRATADA'].sum()\n",
        "soma_cand_despesa  # total despesa por Candidato\n",
        "soma_cand_despesa.info()"
      ],
      "metadata": {
        "colab": {
          "base_uri": "https://localhost:8080/"
        },
        "id": "057eVW-aNcuX",
        "outputId": "cca40369-ba0c-467e-add7-5ac3e6c9de5f"
      },
      "execution_count": 22,
      "outputs": [
        {
          "output_type": "stream",
          "name": "stdout",
          "text": [
            "<class 'pandas.core.frame.DataFrame'>\n",
            "Int64Index: 337 entries, 0 to 336\n",
            "Data columns (total 2 columns):\n",
            " #   Column                 Non-Null Count  Dtype  \n",
            "---  ------                 --------------  -----  \n",
            " 0   NR_CPF_CANDIDATO       337 non-null    int64  \n",
            " 1   VR_DESPESA_CONTRATADA  337 non-null    float64\n",
            "dtypes: float64(1), int64(1)\n",
            "memory usage: 7.9 KB\n"
          ]
        }
      ]
    },
    {
      "cell_type": "code",
      "source": [
        "df_canditado_mun.head()"
      ],
      "metadata": {
        "colab": {
          "base_uri": "https://localhost:8080/",
          "height": 461
        },
        "id": "Kzae10vuk8d9",
        "outputId": "ac0d6403-8184-496e-c12f-a91d437dff1c"
      },
      "execution_count": 23,
      "outputs": [
        {
          "output_type": "execute_result",
          "data": {
            "text/html": [
              "\n",
              "  <div id=\"df-8d4d0dd9-12a7-46fd-8b05-d6a582223c70\">\n",
              "    <div class=\"colab-df-container\">\n",
              "      <div>\n",
              "<style scoped>\n",
              "    .dataframe tbody tr th:only-of-type {\n",
              "        vertical-align: middle;\n",
              "    }\n",
              "\n",
              "    .dataframe tbody tr th {\n",
              "        vertical-align: top;\n",
              "    }\n",
              "\n",
              "    .dataframe thead th {\n",
              "        text-align: right;\n",
              "    }\n",
              "</style>\n",
              "<table border=\"1\" class=\"dataframe\">\n",
              "  <thead>\n",
              "    <tr style=\"text-align: right;\">\n",
              "      <th></th>\n",
              "      <th>SG_UE</th>\n",
              "      <th>NM_UE</th>\n",
              "      <th>CD_CARGO</th>\n",
              "      <th>DS_CARGO</th>\n",
              "      <th>NR_CANDIDATO</th>\n",
              "      <th>NM_CANDIDATO</th>\n",
              "      <th>NR_CPF_CANDIDATO</th>\n",
              "      <th>NM_EMAIL</th>\n",
              "      <th>TP_AGREMIACAO</th>\n",
              "      <th>NR_PARTIDO</th>\n",
              "      <th>NM_PARTIDO</th>\n",
              "      <th>DS_COMPOSICAO_COLIGACAO</th>\n",
              "      <th>CD_NACIONALIDADE</th>\n",
              "      <th>NR_IDADE_DATA_POSSE</th>\n",
              "      <th>DS_GENERO</th>\n",
              "      <th>DS_GRAU_INSTRUCAO</th>\n",
              "      <th>DS_ESTADO_CIVIL</th>\n",
              "      <th>DS_COR_RACA</th>\n",
              "      <th>DS_OCUPACAO</th>\n",
              "      <th>DS_SIT_TOT_TURNO</th>\n",
              "    </tr>\n",
              "  </thead>\n",
              "  <tbody>\n",
              "    <tr>\n",
              "      <th>32</th>\n",
              "      <td>58190</td>\n",
              "      <td>CAMPOS DOS GOYTACAZES</td>\n",
              "      <td>13</td>\n",
              "      <td>VEREADOR</td>\n",
              "      <td>55025</td>\n",
              "      <td>FRANÃOISE DA SILVA CIAFRINO</td>\n",
              "      <td>7072909702</td>\n",
              "      <td>ADVOCACIAELEITORAL2020@HOTMAIL.COM</td>\n",
              "      <td>PARTIDO ISOLADO</td>\n",
              "      <td>55</td>\n",
              "      <td>PARTIDO SOCIAL DEMOCRÃTICO</td>\n",
              "      <td>PSD</td>\n",
              "      <td>1</td>\n",
              "      <td>55</td>\n",
              "      <td>FEMININO</td>\n",
              "      <td>ENSINO MÃDIO COMPLETO</td>\n",
              "      <td>VIÃVO(A)</td>\n",
              "      <td>BRANCA</td>\n",
              "      <td>DONA DE CASA</td>\n",
              "      <td>SUPLENTE</td>\n",
              "    </tr>\n",
              "    <tr>\n",
              "      <th>67</th>\n",
              "      <td>58190</td>\n",
              "      <td>CAMPOS DOS GOYTACAZES</td>\n",
              "      <td>13</td>\n",
              "      <td>VEREADOR</td>\n",
              "      <td>70111</td>\n",
              "      <td>JOSÃ ARMANDO GOMES PIMENTA</td>\n",
              "      <td>709211724</td>\n",
              "      <td>AVANTEMUNICIPIOCAMPOS@GMAILCOM</td>\n",
              "      <td>PARTIDO ISOLADO</td>\n",
              "      <td>70</td>\n",
              "      <td>AVANTE</td>\n",
              "      <td>AVANTE</td>\n",
              "      <td>1</td>\n",
              "      <td>51</td>\n",
              "      <td>MASCULINO</td>\n",
              "      <td>ENSINO FUNDAMENTAL INCOMPLETO</td>\n",
              "      <td>CASADO(A)</td>\n",
              "      <td>PRETA</td>\n",
              "      <td>OUTROS</td>\n",
              "      <td>SUPLENTE</td>\n",
              "    </tr>\n",
              "    <tr>\n",
              "      <th>105</th>\n",
              "      <td>58190</td>\n",
              "      <td>CAMPOS DOS GOYTACAZES</td>\n",
              "      <td>13</td>\n",
              "      <td>VEREADOR</td>\n",
              "      <td>12555</td>\n",
              "      <td>JOSE CARLOS DIAS DA SILVA</td>\n",
              "      <td>99061929768</td>\n",
              "      <td>ELEICAOCAMPOS2020@GMAIL.COM</td>\n",
              "      <td>PARTIDO ISOLADO</td>\n",
              "      <td>12</td>\n",
              "      <td>PARTIDO DEMOCRÃTICO TRABALHISTA</td>\n",
              "      <td>PDT</td>\n",
              "      <td>1</td>\n",
              "      <td>56</td>\n",
              "      <td>MASCULINO</td>\n",
              "      <td>ENSINO FUNDAMENTAL COMPLETO</td>\n",
              "      <td>DIVORCIADO(A)</td>\n",
              "      <td>BRANCA</td>\n",
              "      <td>COMERCIANTE</td>\n",
              "      <td>SUPLENTE</td>\n",
              "    </tr>\n",
              "    <tr>\n",
              "      <th>108</th>\n",
              "      <td>58190</td>\n",
              "      <td>CAMPOS DOS GOYTACAZES</td>\n",
              "      <td>13</td>\n",
              "      <td>VEREADOR</td>\n",
              "      <td>18777</td>\n",
              "      <td>FREDERICO HENRIQUE GONÃALVES</td>\n",
              "      <td>9034045757</td>\n",
              "      <td>FRED.CARMEM@GMAIL.COM</td>\n",
              "      <td>PARTIDO ISOLADO</td>\n",
              "      <td>18</td>\n",
              "      <td>REDE SUSTENTABILIDADE</td>\n",
              "      <td>REDE</td>\n",
              "      <td>1</td>\n",
              "      <td>39</td>\n",
              "      <td>MASCULINO</td>\n",
              "      <td>ENSINO MÃDIO COMPLETO</td>\n",
              "      <td>CASADO(A)</td>\n",
              "      <td>BRANCA</td>\n",
              "      <td>SERVIDOR PÃBLICO MUNICIPAL</td>\n",
              "      <td>NÃO ELEITO</td>\n",
              "    </tr>\n",
              "    <tr>\n",
              "      <th>120</th>\n",
              "      <td>58190</td>\n",
              "      <td>CAMPOS DOS GOYTACAZES</td>\n",
              "      <td>13</td>\n",
              "      <td>VEREADOR</td>\n",
              "      <td>51999</td>\n",
              "      <td>EDIVALDO VIEIRA DE AZEVEDO</td>\n",
              "      <td>1768302782</td>\n",
              "      <td>ELEICAOCAMPOS2020@GMAIL.COM</td>\n",
              "      <td>PARTIDO ISOLADO</td>\n",
              "      <td>51</td>\n",
              "      <td>PATRIOTA</td>\n",
              "      <td>PATRIOTA</td>\n",
              "      <td>1</td>\n",
              "      <td>49</td>\n",
              "      <td>MASCULINO</td>\n",
              "      <td>SUPERIOR COMPLETO</td>\n",
              "      <td>DIVORCIADO(A)</td>\n",
              "      <td>BRANCA</td>\n",
              "      <td>FISIOTERAPEUTA E TERAPEUTA OCUPACIONAL</td>\n",
              "      <td>NÃO ELEITO</td>\n",
              "    </tr>\n",
              "  </tbody>\n",
              "</table>\n",
              "</div>\n",
              "      <button class=\"colab-df-convert\" onclick=\"convertToInteractive('df-8d4d0dd9-12a7-46fd-8b05-d6a582223c70')\"\n",
              "              title=\"Convert this dataframe to an interactive table.\"\n",
              "              style=\"display:none;\">\n",
              "        \n",
              "  <svg xmlns=\"http://www.w3.org/2000/svg\" height=\"24px\"viewBox=\"0 0 24 24\"\n",
              "       width=\"24px\">\n",
              "    <path d=\"M0 0h24v24H0V0z\" fill=\"none\"/>\n",
              "    <path d=\"M18.56 5.44l.94 2.06.94-2.06 2.06-.94-2.06-.94-.94-2.06-.94 2.06-2.06.94zm-11 1L8.5 8.5l.94-2.06 2.06-.94-2.06-.94L8.5 2.5l-.94 2.06-2.06.94zm10 10l.94 2.06.94-2.06 2.06-.94-2.06-.94-.94-2.06-.94 2.06-2.06.94z\"/><path d=\"M17.41 7.96l-1.37-1.37c-.4-.4-.92-.59-1.43-.59-.52 0-1.04.2-1.43.59L10.3 9.45l-7.72 7.72c-.78.78-.78 2.05 0 2.83L4 21.41c.39.39.9.59 1.41.59.51 0 1.02-.2 1.41-.59l7.78-7.78 2.81-2.81c.8-.78.8-2.07 0-2.86zM5.41 20L4 18.59l7.72-7.72 1.47 1.35L5.41 20z\"/>\n",
              "  </svg>\n",
              "      </button>\n",
              "      \n",
              "  <style>\n",
              "    .colab-df-container {\n",
              "      display:flex;\n",
              "      flex-wrap:wrap;\n",
              "      gap: 12px;\n",
              "    }\n",
              "\n",
              "    .colab-df-convert {\n",
              "      background-color: #E8F0FE;\n",
              "      border: none;\n",
              "      border-radius: 50%;\n",
              "      cursor: pointer;\n",
              "      display: none;\n",
              "      fill: #1967D2;\n",
              "      height: 32px;\n",
              "      padding: 0 0 0 0;\n",
              "      width: 32px;\n",
              "    }\n",
              "\n",
              "    .colab-df-convert:hover {\n",
              "      background-color: #E2EBFA;\n",
              "      box-shadow: 0px 1px 2px rgba(60, 64, 67, 0.3), 0px 1px 3px 1px rgba(60, 64, 67, 0.15);\n",
              "      fill: #174EA6;\n",
              "    }\n",
              "\n",
              "    [theme=dark] .colab-df-convert {\n",
              "      background-color: #3B4455;\n",
              "      fill: #D2E3FC;\n",
              "    }\n",
              "\n",
              "    [theme=dark] .colab-df-convert:hover {\n",
              "      background-color: #434B5C;\n",
              "      box-shadow: 0px 1px 3px 1px rgba(0, 0, 0, 0.15);\n",
              "      filter: drop-shadow(0px 1px 2px rgba(0, 0, 0, 0.3));\n",
              "      fill: #FFFFFF;\n",
              "    }\n",
              "  </style>\n",
              "\n",
              "      <script>\n",
              "        const buttonEl =\n",
              "          document.querySelector('#df-8d4d0dd9-12a7-46fd-8b05-d6a582223c70 button.colab-df-convert');\n",
              "        buttonEl.style.display =\n",
              "          google.colab.kernel.accessAllowed ? 'block' : 'none';\n",
              "\n",
              "        async function convertToInteractive(key) {\n",
              "          const element = document.querySelector('#df-8d4d0dd9-12a7-46fd-8b05-d6a582223c70');\n",
              "          const dataTable =\n",
              "            await google.colab.kernel.invokeFunction('convertToInteractive',\n",
              "                                                     [key], {});\n",
              "          if (!dataTable) return;\n",
              "\n",
              "          const docLinkHtml = 'Like what you see? Visit the ' +\n",
              "            '<a target=\"_blank\" href=https://colab.research.google.com/notebooks/data_table.ipynb>data table notebook</a>'\n",
              "            + ' to learn more about interactive tables.';\n",
              "          element.innerHTML = '';\n",
              "          dataTable['output_type'] = 'display_data';\n",
              "          await google.colab.output.renderOutput(dataTable, element);\n",
              "          const docLink = document.createElement('div');\n",
              "          docLink.innerHTML = docLinkHtml;\n",
              "          element.appendChild(docLink);\n",
              "        }\n",
              "      </script>\n",
              "    </div>\n",
              "  </div>\n",
              "  "
            ],
            "text/plain": [
              "     SG_UE  ... DS_SIT_TOT_TURNO\n",
              "32   58190  ...         SUPLENTE\n",
              "67   58190  ...         SUPLENTE\n",
              "105  58190  ...         SUPLENTE\n",
              "108  58190  ...      NÃO ELEITO\n",
              "120  58190  ...      NÃO ELEITO\n",
              "\n",
              "[5 rows x 20 columns]"
            ]
          },
          "metadata": {},
          "execution_count": 23
        }
      ]
    },
    {
      "cell_type": "code",
      "source": [
        "#cria um dataFrame com a juncao de todos os dados"
      ],
      "metadata": {
        "id": "26QdF1QloTRm"
      },
      "execution_count": 24,
      "outputs": []
    },
    {
      "cell_type": "markdown",
      "source": [
        "# Agora que vou juntar todos os datasets perceba que o numero de linhas de cada um é diferente, então tomei a decisão de preencher a media de cada coluna nos valores faltantes, temos que fazer isso a cada junção para evitar problemas no futuro. (Excluindo ou colocando 0 tera um resultado muito ruim OBS:Aprendi na pratica...)"
      ],
      "metadata": {
        "id": "pHsM1_o13sBU"
      }
    },
    {
      "cell_type": "code",
      "source": [
        "t_dataset1 = pd.merge(df_canditado_mun, soma_cand_despesa, on=[\"NR_CPF_CANDIDATO\", \"NR_CPF_CANDIDATO\"])\n",
        "t_dataset1 = df_canditado_mun.join(\n",
        "    soma_cand_despesa.set_index([\"NR_CPF_CANDIDATO\", \"NR_CPF_CANDIDATO\"]),\n",
        "    lsuffix=\"_x\",\n",
        "    rsuffix=\"_y\",\n",
        "    on=[\"NR_CPF_CANDIDATO\", \"NR_CPF_CANDIDATO\"],\n",
        ")\n",
        "mean=t_dataset1[['VR_DESPESA_CONTRATADA']].mean() # 6434.12\n",
        "t_dataset1 = t_dataset1.replace(np.nan, mean)\n",
        "t_dataset1.head()"
      ],
      "metadata": {
        "id": "-m6I0TbBk9Vd",
        "colab": {
          "base_uri": "https://localhost:8080/",
          "height": 461
        },
        "outputId": "58056ab2-bd7c-43c1-bebf-e7cafb69f00f"
      },
      "execution_count": 25,
      "outputs": [
        {
          "output_type": "execute_result",
          "data": {
            "text/html": [
              "\n",
              "  <div id=\"df-2b11bd6b-5ace-4e29-bc21-997e27f166dc\">\n",
              "    <div class=\"colab-df-container\">\n",
              "      <div>\n",
              "<style scoped>\n",
              "    .dataframe tbody tr th:only-of-type {\n",
              "        vertical-align: middle;\n",
              "    }\n",
              "\n",
              "    .dataframe tbody tr th {\n",
              "        vertical-align: top;\n",
              "    }\n",
              "\n",
              "    .dataframe thead th {\n",
              "        text-align: right;\n",
              "    }\n",
              "</style>\n",
              "<table border=\"1\" class=\"dataframe\">\n",
              "  <thead>\n",
              "    <tr style=\"text-align: right;\">\n",
              "      <th></th>\n",
              "      <th>SG_UE</th>\n",
              "      <th>NM_UE</th>\n",
              "      <th>CD_CARGO</th>\n",
              "      <th>DS_CARGO</th>\n",
              "      <th>NR_CANDIDATO</th>\n",
              "      <th>NM_CANDIDATO</th>\n",
              "      <th>NR_CPF_CANDIDATO</th>\n",
              "      <th>NM_EMAIL</th>\n",
              "      <th>TP_AGREMIACAO</th>\n",
              "      <th>NR_PARTIDO</th>\n",
              "      <th>NM_PARTIDO</th>\n",
              "      <th>DS_COMPOSICAO_COLIGACAO</th>\n",
              "      <th>CD_NACIONALIDADE</th>\n",
              "      <th>NR_IDADE_DATA_POSSE</th>\n",
              "      <th>DS_GENERO</th>\n",
              "      <th>DS_GRAU_INSTRUCAO</th>\n",
              "      <th>DS_ESTADO_CIVIL</th>\n",
              "      <th>DS_COR_RACA</th>\n",
              "      <th>DS_OCUPACAO</th>\n",
              "      <th>DS_SIT_TOT_TURNO</th>\n",
              "      <th>VR_DESPESA_CONTRATADA</th>\n",
              "    </tr>\n",
              "  </thead>\n",
              "  <tbody>\n",
              "    <tr>\n",
              "      <th>32</th>\n",
              "      <td>58190</td>\n",
              "      <td>CAMPOS DOS GOYTACAZES</td>\n",
              "      <td>13</td>\n",
              "      <td>VEREADOR</td>\n",
              "      <td>55025</td>\n",
              "      <td>FRANÃOISE DA SILVA CIAFRINO</td>\n",
              "      <td>7072909702</td>\n",
              "      <td>ADVOCACIAELEITORAL2020@HOTMAIL.COM</td>\n",
              "      <td>PARTIDO ISOLADO</td>\n",
              "      <td>55</td>\n",
              "      <td>PARTIDO SOCIAL DEMOCRÃTICO</td>\n",
              "      <td>PSD</td>\n",
              "      <td>1</td>\n",
              "      <td>55</td>\n",
              "      <td>FEMININO</td>\n",
              "      <td>ENSINO MÃDIO COMPLETO</td>\n",
              "      <td>VIÃVO(A)</td>\n",
              "      <td>BRANCA</td>\n",
              "      <td>DONA DE CASA</td>\n",
              "      <td>SUPLENTE</td>\n",
              "      <td>10000.000000</td>\n",
              "    </tr>\n",
              "    <tr>\n",
              "      <th>67</th>\n",
              "      <td>58190</td>\n",
              "      <td>CAMPOS DOS GOYTACAZES</td>\n",
              "      <td>13</td>\n",
              "      <td>VEREADOR</td>\n",
              "      <td>70111</td>\n",
              "      <td>JOSÃ ARMANDO GOMES PIMENTA</td>\n",
              "      <td>709211724</td>\n",
              "      <td>AVANTEMUNICIPIOCAMPOS@GMAILCOM</td>\n",
              "      <td>PARTIDO ISOLADO</td>\n",
              "      <td>70</td>\n",
              "      <td>AVANTE</td>\n",
              "      <td>AVANTE</td>\n",
              "      <td>1</td>\n",
              "      <td>51</td>\n",
              "      <td>MASCULINO</td>\n",
              "      <td>ENSINO FUNDAMENTAL INCOMPLETO</td>\n",
              "      <td>CASADO(A)</td>\n",
              "      <td>PRETA</td>\n",
              "      <td>OUTROS</td>\n",
              "      <td>SUPLENTE</td>\n",
              "      <td>6434.127982</td>\n",
              "    </tr>\n",
              "    <tr>\n",
              "      <th>105</th>\n",
              "      <td>58190</td>\n",
              "      <td>CAMPOS DOS GOYTACAZES</td>\n",
              "      <td>13</td>\n",
              "      <td>VEREADOR</td>\n",
              "      <td>12555</td>\n",
              "      <td>JOSE CARLOS DIAS DA SILVA</td>\n",
              "      <td>99061929768</td>\n",
              "      <td>ELEICAOCAMPOS2020@GMAIL.COM</td>\n",
              "      <td>PARTIDO ISOLADO</td>\n",
              "      <td>12</td>\n",
              "      <td>PARTIDO DEMOCRÃTICO TRABALHISTA</td>\n",
              "      <td>PDT</td>\n",
              "      <td>1</td>\n",
              "      <td>56</td>\n",
              "      <td>MASCULINO</td>\n",
              "      <td>ENSINO FUNDAMENTAL COMPLETO</td>\n",
              "      <td>DIVORCIADO(A)</td>\n",
              "      <td>BRANCA</td>\n",
              "      <td>COMERCIANTE</td>\n",
              "      <td>SUPLENTE</td>\n",
              "      <td>6434.127982</td>\n",
              "    </tr>\n",
              "    <tr>\n",
              "      <th>108</th>\n",
              "      <td>58190</td>\n",
              "      <td>CAMPOS DOS GOYTACAZES</td>\n",
              "      <td>13</td>\n",
              "      <td>VEREADOR</td>\n",
              "      <td>18777</td>\n",
              "      <td>FREDERICO HENRIQUE GONÃALVES</td>\n",
              "      <td>9034045757</td>\n",
              "      <td>FRED.CARMEM@GMAIL.COM</td>\n",
              "      <td>PARTIDO ISOLADO</td>\n",
              "      <td>18</td>\n",
              "      <td>REDE SUSTENTABILIDADE</td>\n",
              "      <td>REDE</td>\n",
              "      <td>1</td>\n",
              "      <td>39</td>\n",
              "      <td>MASCULINO</td>\n",
              "      <td>ENSINO MÃDIO COMPLETO</td>\n",
              "      <td>CASADO(A)</td>\n",
              "      <td>BRANCA</td>\n",
              "      <td>SERVIDOR PÃBLICO MUNICIPAL</td>\n",
              "      <td>NÃO ELEITO</td>\n",
              "      <td>200.000000</td>\n",
              "    </tr>\n",
              "    <tr>\n",
              "      <th>120</th>\n",
              "      <td>58190</td>\n",
              "      <td>CAMPOS DOS GOYTACAZES</td>\n",
              "      <td>13</td>\n",
              "      <td>VEREADOR</td>\n",
              "      <td>51999</td>\n",
              "      <td>EDIVALDO VIEIRA DE AZEVEDO</td>\n",
              "      <td>1768302782</td>\n",
              "      <td>ELEICAOCAMPOS2020@GMAIL.COM</td>\n",
              "      <td>PARTIDO ISOLADO</td>\n",
              "      <td>51</td>\n",
              "      <td>PATRIOTA</td>\n",
              "      <td>PATRIOTA</td>\n",
              "      <td>1</td>\n",
              "      <td>49</td>\n",
              "      <td>MASCULINO</td>\n",
              "      <td>SUPERIOR COMPLETO</td>\n",
              "      <td>DIVORCIADO(A)</td>\n",
              "      <td>BRANCA</td>\n",
              "      <td>FISIOTERAPEUTA E TERAPEUTA OCUPACIONAL</td>\n",
              "      <td>NÃO ELEITO</td>\n",
              "      <td>6434.127982</td>\n",
              "    </tr>\n",
              "  </tbody>\n",
              "</table>\n",
              "</div>\n",
              "      <button class=\"colab-df-convert\" onclick=\"convertToInteractive('df-2b11bd6b-5ace-4e29-bc21-997e27f166dc')\"\n",
              "              title=\"Convert this dataframe to an interactive table.\"\n",
              "              style=\"display:none;\">\n",
              "        \n",
              "  <svg xmlns=\"http://www.w3.org/2000/svg\" height=\"24px\"viewBox=\"0 0 24 24\"\n",
              "       width=\"24px\">\n",
              "    <path d=\"M0 0h24v24H0V0z\" fill=\"none\"/>\n",
              "    <path d=\"M18.56 5.44l.94 2.06.94-2.06 2.06-.94-2.06-.94-.94-2.06-.94 2.06-2.06.94zm-11 1L8.5 8.5l.94-2.06 2.06-.94-2.06-.94L8.5 2.5l-.94 2.06-2.06.94zm10 10l.94 2.06.94-2.06 2.06-.94-2.06-.94-.94-2.06-.94 2.06-2.06.94z\"/><path d=\"M17.41 7.96l-1.37-1.37c-.4-.4-.92-.59-1.43-.59-.52 0-1.04.2-1.43.59L10.3 9.45l-7.72 7.72c-.78.78-.78 2.05 0 2.83L4 21.41c.39.39.9.59 1.41.59.51 0 1.02-.2 1.41-.59l7.78-7.78 2.81-2.81c.8-.78.8-2.07 0-2.86zM5.41 20L4 18.59l7.72-7.72 1.47 1.35L5.41 20z\"/>\n",
              "  </svg>\n",
              "      </button>\n",
              "      \n",
              "  <style>\n",
              "    .colab-df-container {\n",
              "      display:flex;\n",
              "      flex-wrap:wrap;\n",
              "      gap: 12px;\n",
              "    }\n",
              "\n",
              "    .colab-df-convert {\n",
              "      background-color: #E8F0FE;\n",
              "      border: none;\n",
              "      border-radius: 50%;\n",
              "      cursor: pointer;\n",
              "      display: none;\n",
              "      fill: #1967D2;\n",
              "      height: 32px;\n",
              "      padding: 0 0 0 0;\n",
              "      width: 32px;\n",
              "    }\n",
              "\n",
              "    .colab-df-convert:hover {\n",
              "      background-color: #E2EBFA;\n",
              "      box-shadow: 0px 1px 2px rgba(60, 64, 67, 0.3), 0px 1px 3px 1px rgba(60, 64, 67, 0.15);\n",
              "      fill: #174EA6;\n",
              "    }\n",
              "\n",
              "    [theme=dark] .colab-df-convert {\n",
              "      background-color: #3B4455;\n",
              "      fill: #D2E3FC;\n",
              "    }\n",
              "\n",
              "    [theme=dark] .colab-df-convert:hover {\n",
              "      background-color: #434B5C;\n",
              "      box-shadow: 0px 1px 3px 1px rgba(0, 0, 0, 0.15);\n",
              "      filter: drop-shadow(0px 1px 2px rgba(0, 0, 0, 0.3));\n",
              "      fill: #FFFFFF;\n",
              "    }\n",
              "  </style>\n",
              "\n",
              "      <script>\n",
              "        const buttonEl =\n",
              "          document.querySelector('#df-2b11bd6b-5ace-4e29-bc21-997e27f166dc button.colab-df-convert');\n",
              "        buttonEl.style.display =\n",
              "          google.colab.kernel.accessAllowed ? 'block' : 'none';\n",
              "\n",
              "        async function convertToInteractive(key) {\n",
              "          const element = document.querySelector('#df-2b11bd6b-5ace-4e29-bc21-997e27f166dc');\n",
              "          const dataTable =\n",
              "            await google.colab.kernel.invokeFunction('convertToInteractive',\n",
              "                                                     [key], {});\n",
              "          if (!dataTable) return;\n",
              "\n",
              "          const docLinkHtml = 'Like what you see? Visit the ' +\n",
              "            '<a target=\"_blank\" href=https://colab.research.google.com/notebooks/data_table.ipynb>data table notebook</a>'\n",
              "            + ' to learn more about interactive tables.';\n",
              "          element.innerHTML = '';\n",
              "          dataTable['output_type'] = 'display_data';\n",
              "          await google.colab.output.renderOutput(dataTable, element);\n",
              "          const docLink = document.createElement('div');\n",
              "          docLink.innerHTML = docLinkHtml;\n",
              "          element.appendChild(docLink);\n",
              "        }\n",
              "      </script>\n",
              "    </div>\n",
              "  </div>\n",
              "  "
            ],
            "text/plain": [
              "     SG_UE                  NM_UE  ...  DS_SIT_TOT_TURNO VR_DESPESA_CONTRATADA\n",
              "32   58190  CAMPOS DOS GOYTACAZES  ...          SUPLENTE          10000.000000\n",
              "67   58190  CAMPOS DOS GOYTACAZES  ...          SUPLENTE           6434.127982\n",
              "105  58190  CAMPOS DOS GOYTACAZES  ...          SUPLENTE           6434.127982\n",
              "108  58190  CAMPOS DOS GOYTACAZES  ...       NÃO ELEITO            200.000000\n",
              "120  58190  CAMPOS DOS GOYTACAZES  ...       NÃO ELEITO           6434.127982\n",
              "\n",
              "[5 rows x 21 columns]"
            ]
          },
          "metadata": {},
          "execution_count": 25
        }
      ]
    },
    {
      "cell_type": "markdown",
      "source": [
        ""
      ],
      "metadata": {
        "id": "5y8B6JmWpkhl"
      }
    },
    {
      "cell_type": "code",
      "source": [
        "t_datasets2 = pd.merge(t_dataset1, soma_cand_receita, on=[\"NR_CPF_CANDIDATO\", \"NR_CPF_CANDIDATO\"])\n",
        "t_datasets2.head()\n",
        "t_datasets2 = t_dataset1.join(\n",
        "    soma_cand_receita.set_index([\"NR_CPF_CANDIDATO\", \"NR_CPF_CANDIDATO\"]),\n",
        "    lsuffix=\"_x\",\n",
        "    rsuffix=\"_y\",\n",
        "    on=[\"NR_CPF_CANDIDATO\", \"NR_CPF_CANDIDATO\"],\n",
        ")\n",
        "t_datasets2.info()"
      ],
      "metadata": {
        "colab": {
          "base_uri": "https://localhost:8080/"
        },
        "id": "GfnYvTY0ovT9",
        "outputId": "7bfefc0f-de2f-4b43-dc32-fedf16a21940"
      },
      "execution_count": 26,
      "outputs": [
        {
          "output_type": "stream",
          "name": "stdout",
          "text": [
            "<class 'pandas.core.frame.DataFrame'>\n",
            "Int64Index: 818 entries, 32 to 26458\n",
            "Data columns (total 22 columns):\n",
            " #   Column                   Non-Null Count  Dtype  \n",
            "---  ------                   --------------  -----  \n",
            " 0   SG_UE                    818 non-null    int64  \n",
            " 1   NM_UE                    818 non-null    object \n",
            " 2   CD_CARGO                 818 non-null    int64  \n",
            " 3   DS_CARGO                 818 non-null    object \n",
            " 4   NR_CANDIDATO             818 non-null    int64  \n",
            " 5   NM_CANDIDATO             818 non-null    object \n",
            " 6   NR_CPF_CANDIDATO         818 non-null    int64  \n",
            " 7   NM_EMAIL                 818 non-null    object \n",
            " 8   TP_AGREMIACAO            818 non-null    object \n",
            " 9   NR_PARTIDO               818 non-null    int64  \n",
            " 10  NM_PARTIDO               818 non-null    object \n",
            " 11  DS_COMPOSICAO_COLIGACAO  818 non-null    object \n",
            " 12  CD_NACIONALIDADE         818 non-null    int64  \n",
            " 13  NR_IDADE_DATA_POSSE      818 non-null    int64  \n",
            " 14  DS_GENERO                818 non-null    object \n",
            " 15  DS_GRAU_INSTRUCAO        818 non-null    object \n",
            " 16  DS_ESTADO_CIVIL          818 non-null    object \n",
            " 17  DS_COR_RACA              818 non-null    object \n",
            " 18  DS_OCUPACAO              818 non-null    object \n",
            " 19  DS_SIT_TOT_TURNO         818 non-null    object \n",
            " 20  VR_DESPESA_CONTRATADA    818 non-null    float64\n",
            " 21  VR_RECEITA               792 non-null    float64\n",
            "dtypes: float64(2), int64(7), object(13)\n",
            "memory usage: 147.0+ KB\n"
          ]
        }
      ]
    },
    {
      "cell_type": "code",
      "source": [
        "receita_mean=t_datasets2[['VR_RECEITA']].mean() \n",
        "t_datasets2 = t_datasets2.replace(np.nan, receita_mean)\n",
        "t_datasets2.head()"
      ],
      "metadata": {
        "colab": {
          "base_uri": "https://localhost:8080/",
          "height": 461
        },
        "id": "lJhvDvTtkJnh",
        "outputId": "401c82de-b406-48b8-b432-ad9670f20b30"
      },
      "execution_count": 27,
      "outputs": [
        {
          "output_type": "execute_result",
          "data": {
            "text/html": [
              "\n",
              "  <div id=\"df-51c2d103-339b-4ba8-8da1-5654a4578b46\">\n",
              "    <div class=\"colab-df-container\">\n",
              "      <div>\n",
              "<style scoped>\n",
              "    .dataframe tbody tr th:only-of-type {\n",
              "        vertical-align: middle;\n",
              "    }\n",
              "\n",
              "    .dataframe tbody tr th {\n",
              "        vertical-align: top;\n",
              "    }\n",
              "\n",
              "    .dataframe thead th {\n",
              "        text-align: right;\n",
              "    }\n",
              "</style>\n",
              "<table border=\"1\" class=\"dataframe\">\n",
              "  <thead>\n",
              "    <tr style=\"text-align: right;\">\n",
              "      <th></th>\n",
              "      <th>SG_UE</th>\n",
              "      <th>NM_UE</th>\n",
              "      <th>CD_CARGO</th>\n",
              "      <th>DS_CARGO</th>\n",
              "      <th>NR_CANDIDATO</th>\n",
              "      <th>NM_CANDIDATO</th>\n",
              "      <th>NR_CPF_CANDIDATO</th>\n",
              "      <th>NM_EMAIL</th>\n",
              "      <th>TP_AGREMIACAO</th>\n",
              "      <th>NR_PARTIDO</th>\n",
              "      <th>NM_PARTIDO</th>\n",
              "      <th>DS_COMPOSICAO_COLIGACAO</th>\n",
              "      <th>CD_NACIONALIDADE</th>\n",
              "      <th>NR_IDADE_DATA_POSSE</th>\n",
              "      <th>DS_GENERO</th>\n",
              "      <th>DS_GRAU_INSTRUCAO</th>\n",
              "      <th>DS_ESTADO_CIVIL</th>\n",
              "      <th>DS_COR_RACA</th>\n",
              "      <th>DS_OCUPACAO</th>\n",
              "      <th>DS_SIT_TOT_TURNO</th>\n",
              "      <th>VR_DESPESA_CONTRATADA</th>\n",
              "      <th>VR_RECEITA</th>\n",
              "    </tr>\n",
              "  </thead>\n",
              "  <tbody>\n",
              "    <tr>\n",
              "      <th>32</th>\n",
              "      <td>58190</td>\n",
              "      <td>CAMPOS DOS GOYTACAZES</td>\n",
              "      <td>13</td>\n",
              "      <td>VEREADOR</td>\n",
              "      <td>55025</td>\n",
              "      <td>FRANÃOISE DA SILVA CIAFRINO</td>\n",
              "      <td>7072909702</td>\n",
              "      <td>ADVOCACIAELEITORAL2020@HOTMAIL.COM</td>\n",
              "      <td>PARTIDO ISOLADO</td>\n",
              "      <td>55</td>\n",
              "      <td>PARTIDO SOCIAL DEMOCRÃTICO</td>\n",
              "      <td>PSD</td>\n",
              "      <td>1</td>\n",
              "      <td>55</td>\n",
              "      <td>FEMININO</td>\n",
              "      <td>ENSINO MÃDIO COMPLETO</td>\n",
              "      <td>VIÃVO(A)</td>\n",
              "      <td>BRANCA</td>\n",
              "      <td>DONA DE CASA</td>\n",
              "      <td>SUPLENTE</td>\n",
              "      <td>10000.000000</td>\n",
              "      <td>11701.38</td>\n",
              "    </tr>\n",
              "    <tr>\n",
              "      <th>67</th>\n",
              "      <td>58190</td>\n",
              "      <td>CAMPOS DOS GOYTACAZES</td>\n",
              "      <td>13</td>\n",
              "      <td>VEREADOR</td>\n",
              "      <td>70111</td>\n",
              "      <td>JOSÃ ARMANDO GOMES PIMENTA</td>\n",
              "      <td>709211724</td>\n",
              "      <td>AVANTEMUNICIPIOCAMPOS@GMAILCOM</td>\n",
              "      <td>PARTIDO ISOLADO</td>\n",
              "      <td>70</td>\n",
              "      <td>AVANTE</td>\n",
              "      <td>AVANTE</td>\n",
              "      <td>1</td>\n",
              "      <td>51</td>\n",
              "      <td>MASCULINO</td>\n",
              "      <td>ENSINO FUNDAMENTAL INCOMPLETO</td>\n",
              "      <td>CASADO(A)</td>\n",
              "      <td>PRETA</td>\n",
              "      <td>OUTROS</td>\n",
              "      <td>SUPLENTE</td>\n",
              "      <td>6434.127982</td>\n",
              "      <td>1179.70</td>\n",
              "    </tr>\n",
              "    <tr>\n",
              "      <th>105</th>\n",
              "      <td>58190</td>\n",
              "      <td>CAMPOS DOS GOYTACAZES</td>\n",
              "      <td>13</td>\n",
              "      <td>VEREADOR</td>\n",
              "      <td>12555</td>\n",
              "      <td>JOSE CARLOS DIAS DA SILVA</td>\n",
              "      <td>99061929768</td>\n",
              "      <td>ELEICAOCAMPOS2020@GMAIL.COM</td>\n",
              "      <td>PARTIDO ISOLADO</td>\n",
              "      <td>12</td>\n",
              "      <td>PARTIDO DEMOCRÃTICO TRABALHISTA</td>\n",
              "      <td>PDT</td>\n",
              "      <td>1</td>\n",
              "      <td>56</td>\n",
              "      <td>MASCULINO</td>\n",
              "      <td>ENSINO FUNDAMENTAL COMPLETO</td>\n",
              "      <td>DIVORCIADO(A)</td>\n",
              "      <td>BRANCA</td>\n",
              "      <td>COMERCIANTE</td>\n",
              "      <td>SUPLENTE</td>\n",
              "      <td>6434.127982</td>\n",
              "      <td>8246.85</td>\n",
              "    </tr>\n",
              "    <tr>\n",
              "      <th>108</th>\n",
              "      <td>58190</td>\n",
              "      <td>CAMPOS DOS GOYTACAZES</td>\n",
              "      <td>13</td>\n",
              "      <td>VEREADOR</td>\n",
              "      <td>18777</td>\n",
              "      <td>FREDERICO HENRIQUE GONÃALVES</td>\n",
              "      <td>9034045757</td>\n",
              "      <td>FRED.CARMEM@GMAIL.COM</td>\n",
              "      <td>PARTIDO ISOLADO</td>\n",
              "      <td>18</td>\n",
              "      <td>REDE SUSTENTABILIDADE</td>\n",
              "      <td>REDE</td>\n",
              "      <td>1</td>\n",
              "      <td>39</td>\n",
              "      <td>MASCULINO</td>\n",
              "      <td>ENSINO MÃDIO COMPLETO</td>\n",
              "      <td>CASADO(A)</td>\n",
              "      <td>BRANCA</td>\n",
              "      <td>SERVIDOR PÃBLICO MUNICIPAL</td>\n",
              "      <td>NÃO ELEITO</td>\n",
              "      <td>200.000000</td>\n",
              "      <td>700.00</td>\n",
              "    </tr>\n",
              "    <tr>\n",
              "      <th>120</th>\n",
              "      <td>58190</td>\n",
              "      <td>CAMPOS DOS GOYTACAZES</td>\n",
              "      <td>13</td>\n",
              "      <td>VEREADOR</td>\n",
              "      <td>51999</td>\n",
              "      <td>EDIVALDO VIEIRA DE AZEVEDO</td>\n",
              "      <td>1768302782</td>\n",
              "      <td>ELEICAOCAMPOS2020@GMAIL.COM</td>\n",
              "      <td>PARTIDO ISOLADO</td>\n",
              "      <td>51</td>\n",
              "      <td>PATRIOTA</td>\n",
              "      <td>PATRIOTA</td>\n",
              "      <td>1</td>\n",
              "      <td>49</td>\n",
              "      <td>MASCULINO</td>\n",
              "      <td>SUPERIOR COMPLETO</td>\n",
              "      <td>DIVORCIADO(A)</td>\n",
              "      <td>BRANCA</td>\n",
              "      <td>FISIOTERAPEUTA E TERAPEUTA OCUPACIONAL</td>\n",
              "      <td>NÃO ELEITO</td>\n",
              "      <td>6434.127982</td>\n",
              "      <td>4761.85</td>\n",
              "    </tr>\n",
              "  </tbody>\n",
              "</table>\n",
              "</div>\n",
              "      <button class=\"colab-df-convert\" onclick=\"convertToInteractive('df-51c2d103-339b-4ba8-8da1-5654a4578b46')\"\n",
              "              title=\"Convert this dataframe to an interactive table.\"\n",
              "              style=\"display:none;\">\n",
              "        \n",
              "  <svg xmlns=\"http://www.w3.org/2000/svg\" height=\"24px\"viewBox=\"0 0 24 24\"\n",
              "       width=\"24px\">\n",
              "    <path d=\"M0 0h24v24H0V0z\" fill=\"none\"/>\n",
              "    <path d=\"M18.56 5.44l.94 2.06.94-2.06 2.06-.94-2.06-.94-.94-2.06-.94 2.06-2.06.94zm-11 1L8.5 8.5l.94-2.06 2.06-.94-2.06-.94L8.5 2.5l-.94 2.06-2.06.94zm10 10l.94 2.06.94-2.06 2.06-.94-2.06-.94-.94-2.06-.94 2.06-2.06.94z\"/><path d=\"M17.41 7.96l-1.37-1.37c-.4-.4-.92-.59-1.43-.59-.52 0-1.04.2-1.43.59L10.3 9.45l-7.72 7.72c-.78.78-.78 2.05 0 2.83L4 21.41c.39.39.9.59 1.41.59.51 0 1.02-.2 1.41-.59l7.78-7.78 2.81-2.81c.8-.78.8-2.07 0-2.86zM5.41 20L4 18.59l7.72-7.72 1.47 1.35L5.41 20z\"/>\n",
              "  </svg>\n",
              "      </button>\n",
              "      \n",
              "  <style>\n",
              "    .colab-df-container {\n",
              "      display:flex;\n",
              "      flex-wrap:wrap;\n",
              "      gap: 12px;\n",
              "    }\n",
              "\n",
              "    .colab-df-convert {\n",
              "      background-color: #E8F0FE;\n",
              "      border: none;\n",
              "      border-radius: 50%;\n",
              "      cursor: pointer;\n",
              "      display: none;\n",
              "      fill: #1967D2;\n",
              "      height: 32px;\n",
              "      padding: 0 0 0 0;\n",
              "      width: 32px;\n",
              "    }\n",
              "\n",
              "    .colab-df-convert:hover {\n",
              "      background-color: #E2EBFA;\n",
              "      box-shadow: 0px 1px 2px rgba(60, 64, 67, 0.3), 0px 1px 3px 1px rgba(60, 64, 67, 0.15);\n",
              "      fill: #174EA6;\n",
              "    }\n",
              "\n",
              "    [theme=dark] .colab-df-convert {\n",
              "      background-color: #3B4455;\n",
              "      fill: #D2E3FC;\n",
              "    }\n",
              "\n",
              "    [theme=dark] .colab-df-convert:hover {\n",
              "      background-color: #434B5C;\n",
              "      box-shadow: 0px 1px 3px 1px rgba(0, 0, 0, 0.15);\n",
              "      filter: drop-shadow(0px 1px 2px rgba(0, 0, 0, 0.3));\n",
              "      fill: #FFFFFF;\n",
              "    }\n",
              "  </style>\n",
              "\n",
              "      <script>\n",
              "        const buttonEl =\n",
              "          document.querySelector('#df-51c2d103-339b-4ba8-8da1-5654a4578b46 button.colab-df-convert');\n",
              "        buttonEl.style.display =\n",
              "          google.colab.kernel.accessAllowed ? 'block' : 'none';\n",
              "\n",
              "        async function convertToInteractive(key) {\n",
              "          const element = document.querySelector('#df-51c2d103-339b-4ba8-8da1-5654a4578b46');\n",
              "          const dataTable =\n",
              "            await google.colab.kernel.invokeFunction('convertToInteractive',\n",
              "                                                     [key], {});\n",
              "          if (!dataTable) return;\n",
              "\n",
              "          const docLinkHtml = 'Like what you see? Visit the ' +\n",
              "            '<a target=\"_blank\" href=https://colab.research.google.com/notebooks/data_table.ipynb>data table notebook</a>'\n",
              "            + ' to learn more about interactive tables.';\n",
              "          element.innerHTML = '';\n",
              "          dataTable['output_type'] = 'display_data';\n",
              "          await google.colab.output.renderOutput(dataTable, element);\n",
              "          const docLink = document.createElement('div');\n",
              "          docLink.innerHTML = docLinkHtml;\n",
              "          element.appendChild(docLink);\n",
              "        }\n",
              "      </script>\n",
              "    </div>\n",
              "  </div>\n",
              "  "
            ],
            "text/plain": [
              "     SG_UE                  NM_UE  ...  VR_DESPESA_CONTRATADA VR_RECEITA\n",
              "32   58190  CAMPOS DOS GOYTACAZES  ...           10000.000000   11701.38\n",
              "67   58190  CAMPOS DOS GOYTACAZES  ...            6434.127982    1179.70\n",
              "105  58190  CAMPOS DOS GOYTACAZES  ...            6434.127982    8246.85\n",
              "108  58190  CAMPOS DOS GOYTACAZES  ...             200.000000     700.00\n",
              "120  58190  CAMPOS DOS GOYTACAZES  ...            6434.127982    4761.85\n",
              "\n",
              "[5 rows x 22 columns]"
            ]
          },
          "metadata": {},
          "execution_count": 27
        }
      ]
    },
    {
      "cell_type": "code",
      "source": [
        "t_datasets2.info()"
      ],
      "metadata": {
        "colab": {
          "base_uri": "https://localhost:8080/"
        },
        "id": "bfP8WAHugtXR",
        "outputId": "9f55ba10-e2bc-4f3d-c6e0-e492fab67574"
      },
      "execution_count": 28,
      "outputs": [
        {
          "output_type": "stream",
          "name": "stdout",
          "text": [
            "<class 'pandas.core.frame.DataFrame'>\n",
            "Int64Index: 818 entries, 32 to 26458\n",
            "Data columns (total 22 columns):\n",
            " #   Column                   Non-Null Count  Dtype  \n",
            "---  ------                   --------------  -----  \n",
            " 0   SG_UE                    818 non-null    int64  \n",
            " 1   NM_UE                    818 non-null    object \n",
            " 2   CD_CARGO                 818 non-null    int64  \n",
            " 3   DS_CARGO                 818 non-null    object \n",
            " 4   NR_CANDIDATO             818 non-null    int64  \n",
            " 5   NM_CANDIDATO             818 non-null    object \n",
            " 6   NR_CPF_CANDIDATO         818 non-null    int64  \n",
            " 7   NM_EMAIL                 818 non-null    object \n",
            " 8   TP_AGREMIACAO            818 non-null    object \n",
            " 9   NR_PARTIDO               818 non-null    int64  \n",
            " 10  NM_PARTIDO               818 non-null    object \n",
            " 11  DS_COMPOSICAO_COLIGACAO  818 non-null    object \n",
            " 12  CD_NACIONALIDADE         818 non-null    int64  \n",
            " 13  NR_IDADE_DATA_POSSE      818 non-null    int64  \n",
            " 14  DS_GENERO                818 non-null    object \n",
            " 15  DS_GRAU_INSTRUCAO        818 non-null    object \n",
            " 16  DS_ESTADO_CIVIL          818 non-null    object \n",
            " 17  DS_COR_RACA              818 non-null    object \n",
            " 18  DS_OCUPACAO              818 non-null    object \n",
            " 19  DS_SIT_TOT_TURNO         818 non-null    object \n",
            " 20  VR_DESPESA_CONTRATADA    818 non-null    float64\n",
            " 21  VR_RECEITA               818 non-null    float64\n",
            "dtypes: float64(2), int64(7), object(13)\n",
            "memory usage: 147.0+ KB\n"
          ]
        }
      ]
    },
    {
      "cell_type": "markdown",
      "source": [
        "### Muitos dados estão com caracteres não legiveis e como isso depois se tornara um app web ja vou efetuar a mudança para que possamos ter dados mais esteticos futuramente."
      ],
      "metadata": {
        "id": "YTx2TmtesUbR"
      }
    },
    {
      "cell_type": "code",
      "source": [
        "dados= t_datasets2\n",
        "dados = dados.replace(['ELEITO POR QP','ELEITO POR MÃDIA'],'Eleito')\n",
        "dados = dados.replace(['NÃO ELEITO'],'Nao Eleito')\n",
        "dados = dados.replace(['SUPLENTE'],'Suplente')\n",
        "dados.drop(dados.index[dados['DS_SIT_TOT_TURNO'] == '#NULO#'], inplace = True)\n",
        "dados = dados.replace(['LÃ E ESCREVE'],'Le e escreve')\n",
        "dados = dados.replace(['ENSINO MÃDIO INCOMPLETO'],'ENSINO MEDIO IMCOMPLETO')\n",
        "dados = dados.replace(['ENSINO MÃDIO COMPLETO'],'ENSINO MEDIO COMPLETO')\n",
        "dados = dados.replace(['VIÃVO(A)'],'VIUVO(A)')"
      ],
      "metadata": {
        "id": "jQh_Qthkt1CF"
      },
      "execution_count": 29,
      "outputs": []
    },
    {
      "cell_type": "markdown",
      "source": [
        "#Agora com dados organizados, preenchidos e legiveis esta na hora de excluir os dados que não usaremos de entrada e lapidar nosso dataset"
      ],
      "metadata": {
        "id": "mEhyIs_e8E0w"
      }
    },
    {
      "cell_type": "code",
      "source": [
        "tdados=dados.copy()\n",
        "columns = ['CD_CARGO','DS_CARGO','SG_UE','NM_UE','NR_CANDIDATO','NM_CANDIDATO','NR_CPF_CANDIDATO','NR_CANDIDATO','NR_CANDIDATO','NM_EMAIL','TP_AGREMIACAO','NR_PARTIDO','DS_COMPOSICAO_COLIGACAO','CD_NACIONALIDADE']\n",
        "tdados.drop(columns, inplace=True, axis=1)\n",
        "tdados=tdados.rename(columns={\"NR_IDADE_DATA_POSSE\": \"Idade\", \"DS_GENERO\": \"Genero\",\"DS_GRAU_INSTRUCAO\": \"Escolaridade\",\"DS_ESTADO_CIVIL\": \"Estado_civil\",\"DS_COR_RACA\": \"Raça\",\"DS_OCUPACAO\": \"Ocupacao\",'NM_PARTIDO':'Partido',\"DS_SIT_TOT_TURNO\": \"Situacao\"})\n",
        "tdados"
      ],
      "metadata": {
        "colab": {
          "base_uri": "https://localhost:8080/",
          "height": 641
        },
        "id": "u0xTvjJ3C-V7",
        "outputId": "f08a2bcf-ba7c-4244-bf82-33a94f5756f2"
      },
      "execution_count": 30,
      "outputs": [
        {
          "output_type": "execute_result",
          "data": {
            "text/html": [
              "\n",
              "  <div id=\"df-c659a071-7755-43ee-b994-dff2ff59dede\">\n",
              "    <div class=\"colab-df-container\">\n",
              "      <div>\n",
              "<style scoped>\n",
              "    .dataframe tbody tr th:only-of-type {\n",
              "        vertical-align: middle;\n",
              "    }\n",
              "\n",
              "    .dataframe tbody tr th {\n",
              "        vertical-align: top;\n",
              "    }\n",
              "\n",
              "    .dataframe thead th {\n",
              "        text-align: right;\n",
              "    }\n",
              "</style>\n",
              "<table border=\"1\" class=\"dataframe\">\n",
              "  <thead>\n",
              "    <tr style=\"text-align: right;\">\n",
              "      <th></th>\n",
              "      <th>Partido</th>\n",
              "      <th>Idade</th>\n",
              "      <th>Genero</th>\n",
              "      <th>Escolaridade</th>\n",
              "      <th>Estado_civil</th>\n",
              "      <th>Raça</th>\n",
              "      <th>Ocupacao</th>\n",
              "      <th>Situacao</th>\n",
              "      <th>VR_DESPESA_CONTRATADA</th>\n",
              "      <th>VR_RECEITA</th>\n",
              "    </tr>\n",
              "  </thead>\n",
              "  <tbody>\n",
              "    <tr>\n",
              "      <th>32</th>\n",
              "      <td>PARTIDO SOCIAL DEMOCRÃTICO</td>\n",
              "      <td>55</td>\n",
              "      <td>FEMININO</td>\n",
              "      <td>ENSINO MEDIO COMPLETO</td>\n",
              "      <td>VIUVO(A)</td>\n",
              "      <td>BRANCA</td>\n",
              "      <td>DONA DE CASA</td>\n",
              "      <td>Suplente</td>\n",
              "      <td>10000.000000</td>\n",
              "      <td>11701.38</td>\n",
              "    </tr>\n",
              "    <tr>\n",
              "      <th>67</th>\n",
              "      <td>AVANTE</td>\n",
              "      <td>51</td>\n",
              "      <td>MASCULINO</td>\n",
              "      <td>ENSINO FUNDAMENTAL INCOMPLETO</td>\n",
              "      <td>CASADO(A)</td>\n",
              "      <td>PRETA</td>\n",
              "      <td>OUTROS</td>\n",
              "      <td>Suplente</td>\n",
              "      <td>6434.127982</td>\n",
              "      <td>1179.70</td>\n",
              "    </tr>\n",
              "    <tr>\n",
              "      <th>105</th>\n",
              "      <td>PARTIDO DEMOCRÃTICO TRABALHISTA</td>\n",
              "      <td>56</td>\n",
              "      <td>MASCULINO</td>\n",
              "      <td>ENSINO FUNDAMENTAL COMPLETO</td>\n",
              "      <td>DIVORCIADO(A)</td>\n",
              "      <td>BRANCA</td>\n",
              "      <td>COMERCIANTE</td>\n",
              "      <td>Suplente</td>\n",
              "      <td>6434.127982</td>\n",
              "      <td>8246.85</td>\n",
              "    </tr>\n",
              "    <tr>\n",
              "      <th>108</th>\n",
              "      <td>REDE SUSTENTABILIDADE</td>\n",
              "      <td>39</td>\n",
              "      <td>MASCULINO</td>\n",
              "      <td>ENSINO MEDIO COMPLETO</td>\n",
              "      <td>CASADO(A)</td>\n",
              "      <td>BRANCA</td>\n",
              "      <td>SERVIDOR PÃBLICO MUNICIPAL</td>\n",
              "      <td>Nao Eleito</td>\n",
              "      <td>200.000000</td>\n",
              "      <td>700.00</td>\n",
              "    </tr>\n",
              "    <tr>\n",
              "      <th>120</th>\n",
              "      <td>PATRIOTA</td>\n",
              "      <td>49</td>\n",
              "      <td>MASCULINO</td>\n",
              "      <td>SUPERIOR COMPLETO</td>\n",
              "      <td>DIVORCIADO(A)</td>\n",
              "      <td>BRANCA</td>\n",
              "      <td>FISIOTERAPEUTA E TERAPEUTA OCUPACIONAL</td>\n",
              "      <td>Nao Eleito</td>\n",
              "      <td>6434.127982</td>\n",
              "      <td>4761.85</td>\n",
              "    </tr>\n",
              "    <tr>\n",
              "      <th>...</th>\n",
              "      <td>...</td>\n",
              "      <td>...</td>\n",
              "      <td>...</td>\n",
              "      <td>...</td>\n",
              "      <td>...</td>\n",
              "      <td>...</td>\n",
              "      <td>...</td>\n",
              "      <td>...</td>\n",
              "      <td>...</td>\n",
              "      <td>...</td>\n",
              "    </tr>\n",
              "    <tr>\n",
              "      <th>26380</th>\n",
              "      <td>DEMOCRACIA CRISTÃ</td>\n",
              "      <td>55</td>\n",
              "      <td>MASCULINO</td>\n",
              "      <td>ENSINO MEDIO COMPLETO</td>\n",
              "      <td>CASADO(A)</td>\n",
              "      <td>PARDA</td>\n",
              "      <td>POLICIAL MILITAR</td>\n",
              "      <td>Nao Eleito</td>\n",
              "      <td>325.500000</td>\n",
              "      <td>5716.85</td>\n",
              "    </tr>\n",
              "    <tr>\n",
              "      <th>26389</th>\n",
              "      <td>PARTIDO LIBERAL</td>\n",
              "      <td>55</td>\n",
              "      <td>MASCULINO</td>\n",
              "      <td>ENSINO FUNDAMENTAL INCOMPLETO</td>\n",
              "      <td>CASADO(A)</td>\n",
              "      <td>BRANCA</td>\n",
              "      <td>EMPRESÃRIO</td>\n",
              "      <td>Suplente</td>\n",
              "      <td>1300.000000</td>\n",
              "      <td>6461.85</td>\n",
              "    </tr>\n",
              "    <tr>\n",
              "      <th>26407</th>\n",
              "      <td>PARTIDO SOCIALISTA BRASILEIRO</td>\n",
              "      <td>43</td>\n",
              "      <td>FEMININO</td>\n",
              "      <td>SUPERIOR COMPLETO</td>\n",
              "      <td>CASADO(A)</td>\n",
              "      <td>PARDA</td>\n",
              "      <td>NUTRICIONISTA E ASSEMELHADOS</td>\n",
              "      <td>Nao Eleito</td>\n",
              "      <td>6434.127982</td>\n",
              "      <td>1387.04</td>\n",
              "    </tr>\n",
              "    <tr>\n",
              "      <th>26411</th>\n",
              "      <td>PARTIDO DA MOBILIZAÃÃO NACIONAL</td>\n",
              "      <td>53</td>\n",
              "      <td>MASCULINO</td>\n",
              "      <td>ENSINO FUNDAMENTAL COMPLETO</td>\n",
              "      <td>SOLTEIRO(A)</td>\n",
              "      <td>BRANCA</td>\n",
              "      <td>OUTROS</td>\n",
              "      <td>Nao Eleito</td>\n",
              "      <td>6434.127982</td>\n",
              "      <td>187.50</td>\n",
              "    </tr>\n",
              "    <tr>\n",
              "      <th>26458</th>\n",
              "      <td>PARTIDO DEMOCRÃTICO TRABALHISTA</td>\n",
              "      <td>57</td>\n",
              "      <td>MASCULINO</td>\n",
              "      <td>SUPERIOR COMPLETO</td>\n",
              "      <td>CASADO(A)</td>\n",
              "      <td>BRANCA</td>\n",
              "      <td>EMPRESÃRIO</td>\n",
              "      <td>Suplente</td>\n",
              "      <td>680.000000</td>\n",
              "      <td>6191.85</td>\n",
              "    </tr>\n",
              "  </tbody>\n",
              "</table>\n",
              "<p>797 rows × 10 columns</p>\n",
              "</div>\n",
              "      <button class=\"colab-df-convert\" onclick=\"convertToInteractive('df-c659a071-7755-43ee-b994-dff2ff59dede')\"\n",
              "              title=\"Convert this dataframe to an interactive table.\"\n",
              "              style=\"display:none;\">\n",
              "        \n",
              "  <svg xmlns=\"http://www.w3.org/2000/svg\" height=\"24px\"viewBox=\"0 0 24 24\"\n",
              "       width=\"24px\">\n",
              "    <path d=\"M0 0h24v24H0V0z\" fill=\"none\"/>\n",
              "    <path d=\"M18.56 5.44l.94 2.06.94-2.06 2.06-.94-2.06-.94-.94-2.06-.94 2.06-2.06.94zm-11 1L8.5 8.5l.94-2.06 2.06-.94-2.06-.94L8.5 2.5l-.94 2.06-2.06.94zm10 10l.94 2.06.94-2.06 2.06-.94-2.06-.94-.94-2.06-.94 2.06-2.06.94z\"/><path d=\"M17.41 7.96l-1.37-1.37c-.4-.4-.92-.59-1.43-.59-.52 0-1.04.2-1.43.59L10.3 9.45l-7.72 7.72c-.78.78-.78 2.05 0 2.83L4 21.41c.39.39.9.59 1.41.59.51 0 1.02-.2 1.41-.59l7.78-7.78 2.81-2.81c.8-.78.8-2.07 0-2.86zM5.41 20L4 18.59l7.72-7.72 1.47 1.35L5.41 20z\"/>\n",
              "  </svg>\n",
              "      </button>\n",
              "      \n",
              "  <style>\n",
              "    .colab-df-container {\n",
              "      display:flex;\n",
              "      flex-wrap:wrap;\n",
              "      gap: 12px;\n",
              "    }\n",
              "\n",
              "    .colab-df-convert {\n",
              "      background-color: #E8F0FE;\n",
              "      border: none;\n",
              "      border-radius: 50%;\n",
              "      cursor: pointer;\n",
              "      display: none;\n",
              "      fill: #1967D2;\n",
              "      height: 32px;\n",
              "      padding: 0 0 0 0;\n",
              "      width: 32px;\n",
              "    }\n",
              "\n",
              "    .colab-df-convert:hover {\n",
              "      background-color: #E2EBFA;\n",
              "      box-shadow: 0px 1px 2px rgba(60, 64, 67, 0.3), 0px 1px 3px 1px rgba(60, 64, 67, 0.15);\n",
              "      fill: #174EA6;\n",
              "    }\n",
              "\n",
              "    [theme=dark] .colab-df-convert {\n",
              "      background-color: #3B4455;\n",
              "      fill: #D2E3FC;\n",
              "    }\n",
              "\n",
              "    [theme=dark] .colab-df-convert:hover {\n",
              "      background-color: #434B5C;\n",
              "      box-shadow: 0px 1px 3px 1px rgba(0, 0, 0, 0.15);\n",
              "      filter: drop-shadow(0px 1px 2px rgba(0, 0, 0, 0.3));\n",
              "      fill: #FFFFFF;\n",
              "    }\n",
              "  </style>\n",
              "\n",
              "      <script>\n",
              "        const buttonEl =\n",
              "          document.querySelector('#df-c659a071-7755-43ee-b994-dff2ff59dede button.colab-df-convert');\n",
              "        buttonEl.style.display =\n",
              "          google.colab.kernel.accessAllowed ? 'block' : 'none';\n",
              "\n",
              "        async function convertToInteractive(key) {\n",
              "          const element = document.querySelector('#df-c659a071-7755-43ee-b994-dff2ff59dede');\n",
              "          const dataTable =\n",
              "            await google.colab.kernel.invokeFunction('convertToInteractive',\n",
              "                                                     [key], {});\n",
              "          if (!dataTable) return;\n",
              "\n",
              "          const docLinkHtml = 'Like what you see? Visit the ' +\n",
              "            '<a target=\"_blank\" href=https://colab.research.google.com/notebooks/data_table.ipynb>data table notebook</a>'\n",
              "            + ' to learn more about interactive tables.';\n",
              "          element.innerHTML = '';\n",
              "          dataTable['output_type'] = 'display_data';\n",
              "          await google.colab.output.renderOutput(dataTable, element);\n",
              "          const docLink = document.createElement('div');\n",
              "          docLink.innerHTML = docLinkHtml;\n",
              "          element.appendChild(docLink);\n",
              "        }\n",
              "      </script>\n",
              "    </div>\n",
              "  </div>\n",
              "  "
            ],
            "text/plain": [
              "                                 Partido  ...  VR_RECEITA\n",
              "32           PARTIDO SOCIAL DEMOCRÃTICO  ...    11701.38\n",
              "67                                AVANTE  ...     1179.70\n",
              "105     PARTIDO DEMOCRÃTICO TRABALHISTA  ...     8246.85\n",
              "108                REDE SUSTENTABILIDADE  ...      700.00\n",
              "120                             PATRIOTA  ...     4761.85\n",
              "...                                  ...  ...         ...\n",
              "26380                 DEMOCRACIA CRISTÃ  ...     5716.85\n",
              "26389                    PARTIDO LIBERAL  ...     6461.85\n",
              "26407      PARTIDO SOCIALISTA BRASILEIRO  ...     1387.04\n",
              "26411  PARTIDO DA MOBILIZAÃÃO NACIONAL  ...      187.50\n",
              "26458   PARTIDO DEMOCRÃTICO TRABALHISTA  ...     6191.85\n",
              "\n",
              "[797 rows x 10 columns]"
            ]
          },
          "metadata": {},
          "execution_count": 30
        }
      ]
    },
    {
      "cell_type": "markdown",
      "source": [
        "## Aqui temos que categorizar os dados, para ter um bom resultado do algorimo utilizaremos o get_dummies.\n",
        "#OBS : Como não temos somente dois valores de saida (0 e 1) temos que categorizar o Y depois, pois o algoritmo sera capaz de dizer se o candidato sera: SUPLENTE, NÃO ELEITO E ELEITO.\n",
        "\n",
        "\n"
      ],
      "metadata": {
        "id": "G2ySpqKdHo8F"
      }
    },
    {
      "cell_type": "code",
      "source": [
        "m_dados = pd.get_dummies(tdados, columns=[\"Genero\",\"Estado_civil\",\n",
        "                                                 \"Raça\",'Escolaridade','Ocupacao','Partido'\n",
        "                                                ])\n",
        "m_dados.head()"
      ],
      "metadata": {
        "colab": {
          "base_uri": "https://localhost:8080/",
          "height": 404
        },
        "id": "Hju13knL7lE0",
        "outputId": "dcf9d90b-ff77-413c-dc39-2d80a6462c73"
      },
      "execution_count": 31,
      "outputs": [
        {
          "output_type": "execute_result",
          "data": {
            "text/html": [
              "\n",
              "  <div id=\"df-541e9f63-b4d0-4f7f-b63a-b0f13f7558df\">\n",
              "    <div class=\"colab-df-container\">\n",
              "      <div>\n",
              "<style scoped>\n",
              "    .dataframe tbody tr th:only-of-type {\n",
              "        vertical-align: middle;\n",
              "    }\n",
              "\n",
              "    .dataframe tbody tr th {\n",
              "        vertical-align: top;\n",
              "    }\n",
              "\n",
              "    .dataframe thead th {\n",
              "        text-align: right;\n",
              "    }\n",
              "</style>\n",
              "<table border=\"1\" class=\"dataframe\">\n",
              "  <thead>\n",
              "    <tr style=\"text-align: right;\">\n",
              "      <th></th>\n",
              "      <th>Idade</th>\n",
              "      <th>Situacao</th>\n",
              "      <th>VR_DESPESA_CONTRATADA</th>\n",
              "      <th>VR_RECEITA</th>\n",
              "      <th>Genero_FEMININO</th>\n",
              "      <th>Genero_MASCULINO</th>\n",
              "      <th>Estado_civil_CASADO(A)</th>\n",
              "      <th>Estado_civil_DIVORCIADO(A)</th>\n",
              "      <th>Estado_civil_SEPARADO(A) JUDICIALMENTE</th>\n",
              "      <th>Estado_civil_SOLTEIRO(A)</th>\n",
              "      <th>Estado_civil_VIUVO(A)</th>\n",
              "      <th>Raça_AMARELA</th>\n",
              "      <th>Raça_BRANCA</th>\n",
              "      <th>Raça_INDÃGENA</th>\n",
              "      <th>Raça_PARDA</th>\n",
              "      <th>Raça_PRETA</th>\n",
              "      <th>Raça_SEM INFORMAÃÃO</th>\n",
              "      <th>Escolaridade_ENSINO FUNDAMENTAL COMPLETO</th>\n",
              "      <th>Escolaridade_ENSINO FUNDAMENTAL INCOMPLETO</th>\n",
              "      <th>Escolaridade_ENSINO MEDIO COMPLETO</th>\n",
              "      <th>Escolaridade_ENSINO MEDIO IMCOMPLETO</th>\n",
              "      <th>Escolaridade_Le e escreve</th>\n",
              "      <th>Escolaridade_SUPERIOR COMPLETO</th>\n",
              "      <th>Escolaridade_SUPERIOR INCOMPLETO</th>\n",
              "      <th>Ocupacao_ADMINISTRADOR</th>\n",
              "      <th>Ocupacao_ADVOGADO</th>\n",
              "      <th>Ocupacao_AGENTE ADMINISTRATIVO</th>\n",
              "      <th>Ocupacao_AGENTE DE SAÃDE E SANITARISTA</th>\n",
              "      <th>Ocupacao_AGRICULTOR</th>\n",
              "      <th>Ocupacao_ALFAIATE E COSTUREIRO</th>\n",
              "      <th>Ocupacao_ALMOXARIFE</th>\n",
              "      <th>Ocupacao_APOSENTADO (EXCETO SERVIDOR PÃBLICO)</th>\n",
              "      <th>Ocupacao_ARQUITETO</th>\n",
              "      <th>Ocupacao_ARTESÃO</th>\n",
              "      <th>Ocupacao_ASSISTENTE SOCIAL</th>\n",
              "      <th>Ocupacao_ATLETA PROFISSIONAL E TÃCNICO EM DESPORTOS</th>\n",
              "      <th>Ocupacao_AUXILIAR DE ESCRITÃRIO E ASSEMELHADOS</th>\n",
              "      <th>Ocupacao_AUXILIAR DE LABORATÃRIO</th>\n",
              "      <th>Ocupacao_BANCÃRIO E ECONOMIÃRIO</th>\n",
              "      <th>Ocupacao_BIÃLOGO</th>\n",
              "      <th>...</th>\n",
              "      <th>Ocupacao_TORNEIRO MECÃNICO</th>\n",
              "      <th>Ocupacao_TRABALHADOR DE CONSTRUÃÃO CIVIL</th>\n",
              "      <th>Ocupacao_TRABALHADOR DE HOTELARIA</th>\n",
              "      <th>Ocupacao_TRABALHADOR METALÃRGICO E SIDERÃRGICO</th>\n",
              "      <th>Ocupacao_TÃCNICO CONTABILIDADE,ESTATÃSTICA,ECONOMIA DOMÃSTICA E ADMINISTRAÃÃO</th>\n",
              "      <th>Ocupacao_TÃCNICO DE ELETRICIDADE,ELETRÃNICA E TELECOMUNICAÃÃES</th>\n",
              "      <th>Ocupacao_TÃCNICO DE ENFERMAGEM E ASSEMELHADOS (EXCETO ENFERMEIRO)</th>\n",
              "      <th>Ocupacao_TÃCNICO DE LABORATÃRIO E RAIOS X</th>\n",
              "      <th>Ocupacao_TÃCNICO DE MECÃNICA</th>\n",
              "      <th>Ocupacao_TÃCNICO EM AGRONOMIA E AGRIMENSURA</th>\n",
              "      <th>Ocupacao_VENDEDOR DE COMÃRCIO VAREJISTA E ATACADISTA</th>\n",
              "      <th>Ocupacao_VENDEDOR PRACISTA,REPRESENTANTE,CAIXEIRO-VIAJANTE E ASSEMELHADOS</th>\n",
              "      <th>Ocupacao_VEREADOR</th>\n",
              "      <th>Ocupacao_VIGILANTE</th>\n",
              "      <th>Partido_AVANTE</th>\n",
              "      <th>Partido_CIDADANIA</th>\n",
              "      <th>Partido_DEMOCRACIA CRISTÃ</th>\n",
              "      <th>Partido_DEMOCRATAS</th>\n",
              "      <th>Partido_MOVIMENTO DEMOCRÃTICO BRASILEIRO</th>\n",
              "      <th>Partido_PARTIDO COMUNISTA DO BRASIL</th>\n",
              "      <th>Partido_PARTIDO DA MOBILIZAÃÃO NACIONAL</th>\n",
              "      <th>Partido_PARTIDO DA MULHER BRASILEIRA</th>\n",
              "      <th>Partido_PARTIDO DA SOCIAL DEMOCRACIA BRASILEIRA</th>\n",
              "      <th>Partido_PARTIDO DEMOCRÃTICO TRABALHISTA</th>\n",
              "      <th>Partido_PARTIDO DOS TRABALHADORES</th>\n",
              "      <th>Partido_PARTIDO LIBERAL</th>\n",
              "      <th>Partido_PARTIDO RENOVADOR TRABALHISTA BRASILEIRO</th>\n",
              "      <th>Partido_PARTIDO REPUBLICANO DA ORDEM SOCIAL</th>\n",
              "      <th>Partido_PARTIDO SOCIAL CRISTÃO</th>\n",
              "      <th>Partido_PARTIDO SOCIAL DEMOCRÃTICO</th>\n",
              "      <th>Partido_PARTIDO SOCIAL LIBERAL</th>\n",
              "      <th>Partido_PARTIDO SOCIALISMO E LIBERDADE</th>\n",
              "      <th>Partido_PARTIDO SOCIALISTA BRASILEIRO</th>\n",
              "      <th>Partido_PARTIDO TRABALHISTA BRASILEIRO</th>\n",
              "      <th>Partido_PARTIDO TRABALHISTA CRISTÃO</th>\n",
              "      <th>Partido_PATRIOTA</th>\n",
              "      <th>Partido_PODEMOS</th>\n",
              "      <th>Partido_REDE SUSTENTABILIDADE</th>\n",
              "      <th>Partido_REPUBLICANOS</th>\n",
              "      <th>Partido_SOLIDARIEDADE</th>\n",
              "    </tr>\n",
              "  </thead>\n",
              "  <tbody>\n",
              "    <tr>\n",
              "      <th>32</th>\n",
              "      <td>55</td>\n",
              "      <td>Suplente</td>\n",
              "      <td>10000.000000</td>\n",
              "      <td>11701.38</td>\n",
              "      <td>1</td>\n",
              "      <td>0</td>\n",
              "      <td>0</td>\n",
              "      <td>0</td>\n",
              "      <td>0</td>\n",
              "      <td>0</td>\n",
              "      <td>1</td>\n",
              "      <td>0</td>\n",
              "      <td>1</td>\n",
              "      <td>0</td>\n",
              "      <td>0</td>\n",
              "      <td>0</td>\n",
              "      <td>0</td>\n",
              "      <td>0</td>\n",
              "      <td>0</td>\n",
              "      <td>1</td>\n",
              "      <td>0</td>\n",
              "      <td>0</td>\n",
              "      <td>0</td>\n",
              "      <td>0</td>\n",
              "      <td>0</td>\n",
              "      <td>0</td>\n",
              "      <td>0</td>\n",
              "      <td>0</td>\n",
              "      <td>0</td>\n",
              "      <td>0</td>\n",
              "      <td>0</td>\n",
              "      <td>0</td>\n",
              "      <td>0</td>\n",
              "      <td>0</td>\n",
              "      <td>0</td>\n",
              "      <td>0</td>\n",
              "      <td>0</td>\n",
              "      <td>0</td>\n",
              "      <td>0</td>\n",
              "      <td>0</td>\n",
              "      <td>...</td>\n",
              "      <td>0</td>\n",
              "      <td>0</td>\n",
              "      <td>0</td>\n",
              "      <td>0</td>\n",
              "      <td>0</td>\n",
              "      <td>0</td>\n",
              "      <td>0</td>\n",
              "      <td>0</td>\n",
              "      <td>0</td>\n",
              "      <td>0</td>\n",
              "      <td>0</td>\n",
              "      <td>0</td>\n",
              "      <td>0</td>\n",
              "      <td>0</td>\n",
              "      <td>0</td>\n",
              "      <td>0</td>\n",
              "      <td>0</td>\n",
              "      <td>0</td>\n",
              "      <td>0</td>\n",
              "      <td>0</td>\n",
              "      <td>0</td>\n",
              "      <td>0</td>\n",
              "      <td>0</td>\n",
              "      <td>0</td>\n",
              "      <td>0</td>\n",
              "      <td>0</td>\n",
              "      <td>0</td>\n",
              "      <td>0</td>\n",
              "      <td>0</td>\n",
              "      <td>1</td>\n",
              "      <td>0</td>\n",
              "      <td>0</td>\n",
              "      <td>0</td>\n",
              "      <td>0</td>\n",
              "      <td>0</td>\n",
              "      <td>0</td>\n",
              "      <td>0</td>\n",
              "      <td>0</td>\n",
              "      <td>0</td>\n",
              "      <td>0</td>\n",
              "    </tr>\n",
              "    <tr>\n",
              "      <th>67</th>\n",
              "      <td>51</td>\n",
              "      <td>Suplente</td>\n",
              "      <td>6434.127982</td>\n",
              "      <td>1179.70</td>\n",
              "      <td>0</td>\n",
              "      <td>1</td>\n",
              "      <td>1</td>\n",
              "      <td>0</td>\n",
              "      <td>0</td>\n",
              "      <td>0</td>\n",
              "      <td>0</td>\n",
              "      <td>0</td>\n",
              "      <td>0</td>\n",
              "      <td>0</td>\n",
              "      <td>0</td>\n",
              "      <td>1</td>\n",
              "      <td>0</td>\n",
              "      <td>0</td>\n",
              "      <td>1</td>\n",
              "      <td>0</td>\n",
              "      <td>0</td>\n",
              "      <td>0</td>\n",
              "      <td>0</td>\n",
              "      <td>0</td>\n",
              "      <td>0</td>\n",
              "      <td>0</td>\n",
              "      <td>0</td>\n",
              "      <td>0</td>\n",
              "      <td>0</td>\n",
              "      <td>0</td>\n",
              "      <td>0</td>\n",
              "      <td>0</td>\n",
              "      <td>0</td>\n",
              "      <td>0</td>\n",
              "      <td>0</td>\n",
              "      <td>0</td>\n",
              "      <td>0</td>\n",
              "      <td>0</td>\n",
              "      <td>0</td>\n",
              "      <td>0</td>\n",
              "      <td>...</td>\n",
              "      <td>0</td>\n",
              "      <td>0</td>\n",
              "      <td>0</td>\n",
              "      <td>0</td>\n",
              "      <td>0</td>\n",
              "      <td>0</td>\n",
              "      <td>0</td>\n",
              "      <td>0</td>\n",
              "      <td>0</td>\n",
              "      <td>0</td>\n",
              "      <td>0</td>\n",
              "      <td>0</td>\n",
              "      <td>0</td>\n",
              "      <td>0</td>\n",
              "      <td>1</td>\n",
              "      <td>0</td>\n",
              "      <td>0</td>\n",
              "      <td>0</td>\n",
              "      <td>0</td>\n",
              "      <td>0</td>\n",
              "      <td>0</td>\n",
              "      <td>0</td>\n",
              "      <td>0</td>\n",
              "      <td>0</td>\n",
              "      <td>0</td>\n",
              "      <td>0</td>\n",
              "      <td>0</td>\n",
              "      <td>0</td>\n",
              "      <td>0</td>\n",
              "      <td>0</td>\n",
              "      <td>0</td>\n",
              "      <td>0</td>\n",
              "      <td>0</td>\n",
              "      <td>0</td>\n",
              "      <td>0</td>\n",
              "      <td>0</td>\n",
              "      <td>0</td>\n",
              "      <td>0</td>\n",
              "      <td>0</td>\n",
              "      <td>0</td>\n",
              "    </tr>\n",
              "    <tr>\n",
              "      <th>105</th>\n",
              "      <td>56</td>\n",
              "      <td>Suplente</td>\n",
              "      <td>6434.127982</td>\n",
              "      <td>8246.85</td>\n",
              "      <td>0</td>\n",
              "      <td>1</td>\n",
              "      <td>0</td>\n",
              "      <td>1</td>\n",
              "      <td>0</td>\n",
              "      <td>0</td>\n",
              "      <td>0</td>\n",
              "      <td>0</td>\n",
              "      <td>1</td>\n",
              "      <td>0</td>\n",
              "      <td>0</td>\n",
              "      <td>0</td>\n",
              "      <td>0</td>\n",
              "      <td>1</td>\n",
              "      <td>0</td>\n",
              "      <td>0</td>\n",
              "      <td>0</td>\n",
              "      <td>0</td>\n",
              "      <td>0</td>\n",
              "      <td>0</td>\n",
              "      <td>0</td>\n",
              "      <td>0</td>\n",
              "      <td>0</td>\n",
              "      <td>0</td>\n",
              "      <td>0</td>\n",
              "      <td>0</td>\n",
              "      <td>0</td>\n",
              "      <td>0</td>\n",
              "      <td>0</td>\n",
              "      <td>0</td>\n",
              "      <td>0</td>\n",
              "      <td>0</td>\n",
              "      <td>0</td>\n",
              "      <td>0</td>\n",
              "      <td>0</td>\n",
              "      <td>0</td>\n",
              "      <td>...</td>\n",
              "      <td>0</td>\n",
              "      <td>0</td>\n",
              "      <td>0</td>\n",
              "      <td>0</td>\n",
              "      <td>0</td>\n",
              "      <td>0</td>\n",
              "      <td>0</td>\n",
              "      <td>0</td>\n",
              "      <td>0</td>\n",
              "      <td>0</td>\n",
              "      <td>0</td>\n",
              "      <td>0</td>\n",
              "      <td>0</td>\n",
              "      <td>0</td>\n",
              "      <td>0</td>\n",
              "      <td>0</td>\n",
              "      <td>0</td>\n",
              "      <td>0</td>\n",
              "      <td>0</td>\n",
              "      <td>0</td>\n",
              "      <td>0</td>\n",
              "      <td>0</td>\n",
              "      <td>0</td>\n",
              "      <td>1</td>\n",
              "      <td>0</td>\n",
              "      <td>0</td>\n",
              "      <td>0</td>\n",
              "      <td>0</td>\n",
              "      <td>0</td>\n",
              "      <td>0</td>\n",
              "      <td>0</td>\n",
              "      <td>0</td>\n",
              "      <td>0</td>\n",
              "      <td>0</td>\n",
              "      <td>0</td>\n",
              "      <td>0</td>\n",
              "      <td>0</td>\n",
              "      <td>0</td>\n",
              "      <td>0</td>\n",
              "      <td>0</td>\n",
              "    </tr>\n",
              "    <tr>\n",
              "      <th>108</th>\n",
              "      <td>39</td>\n",
              "      <td>Nao Eleito</td>\n",
              "      <td>200.000000</td>\n",
              "      <td>700.00</td>\n",
              "      <td>0</td>\n",
              "      <td>1</td>\n",
              "      <td>1</td>\n",
              "      <td>0</td>\n",
              "      <td>0</td>\n",
              "      <td>0</td>\n",
              "      <td>0</td>\n",
              "      <td>0</td>\n",
              "      <td>1</td>\n",
              "      <td>0</td>\n",
              "      <td>0</td>\n",
              "      <td>0</td>\n",
              "      <td>0</td>\n",
              "      <td>0</td>\n",
              "      <td>0</td>\n",
              "      <td>1</td>\n",
              "      <td>0</td>\n",
              "      <td>0</td>\n",
              "      <td>0</td>\n",
              "      <td>0</td>\n",
              "      <td>0</td>\n",
              "      <td>0</td>\n",
              "      <td>0</td>\n",
              "      <td>0</td>\n",
              "      <td>0</td>\n",
              "      <td>0</td>\n",
              "      <td>0</td>\n",
              "      <td>0</td>\n",
              "      <td>0</td>\n",
              "      <td>0</td>\n",
              "      <td>0</td>\n",
              "      <td>0</td>\n",
              "      <td>0</td>\n",
              "      <td>0</td>\n",
              "      <td>0</td>\n",
              "      <td>0</td>\n",
              "      <td>...</td>\n",
              "      <td>0</td>\n",
              "      <td>0</td>\n",
              "      <td>0</td>\n",
              "      <td>0</td>\n",
              "      <td>0</td>\n",
              "      <td>0</td>\n",
              "      <td>0</td>\n",
              "      <td>0</td>\n",
              "      <td>0</td>\n",
              "      <td>0</td>\n",
              "      <td>0</td>\n",
              "      <td>0</td>\n",
              "      <td>0</td>\n",
              "      <td>0</td>\n",
              "      <td>0</td>\n",
              "      <td>0</td>\n",
              "      <td>0</td>\n",
              "      <td>0</td>\n",
              "      <td>0</td>\n",
              "      <td>0</td>\n",
              "      <td>0</td>\n",
              "      <td>0</td>\n",
              "      <td>0</td>\n",
              "      <td>0</td>\n",
              "      <td>0</td>\n",
              "      <td>0</td>\n",
              "      <td>0</td>\n",
              "      <td>0</td>\n",
              "      <td>0</td>\n",
              "      <td>0</td>\n",
              "      <td>0</td>\n",
              "      <td>0</td>\n",
              "      <td>0</td>\n",
              "      <td>0</td>\n",
              "      <td>0</td>\n",
              "      <td>0</td>\n",
              "      <td>0</td>\n",
              "      <td>1</td>\n",
              "      <td>0</td>\n",
              "      <td>0</td>\n",
              "    </tr>\n",
              "    <tr>\n",
              "      <th>120</th>\n",
              "      <td>49</td>\n",
              "      <td>Nao Eleito</td>\n",
              "      <td>6434.127982</td>\n",
              "      <td>4761.85</td>\n",
              "      <td>0</td>\n",
              "      <td>1</td>\n",
              "      <td>0</td>\n",
              "      <td>1</td>\n",
              "      <td>0</td>\n",
              "      <td>0</td>\n",
              "      <td>0</td>\n",
              "      <td>0</td>\n",
              "      <td>1</td>\n",
              "      <td>0</td>\n",
              "      <td>0</td>\n",
              "      <td>0</td>\n",
              "      <td>0</td>\n",
              "      <td>0</td>\n",
              "      <td>0</td>\n",
              "      <td>0</td>\n",
              "      <td>0</td>\n",
              "      <td>0</td>\n",
              "      <td>1</td>\n",
              "      <td>0</td>\n",
              "      <td>0</td>\n",
              "      <td>0</td>\n",
              "      <td>0</td>\n",
              "      <td>0</td>\n",
              "      <td>0</td>\n",
              "      <td>0</td>\n",
              "      <td>0</td>\n",
              "      <td>0</td>\n",
              "      <td>0</td>\n",
              "      <td>0</td>\n",
              "      <td>0</td>\n",
              "      <td>0</td>\n",
              "      <td>0</td>\n",
              "      <td>0</td>\n",
              "      <td>0</td>\n",
              "      <td>0</td>\n",
              "      <td>...</td>\n",
              "      <td>0</td>\n",
              "      <td>0</td>\n",
              "      <td>0</td>\n",
              "      <td>0</td>\n",
              "      <td>0</td>\n",
              "      <td>0</td>\n",
              "      <td>0</td>\n",
              "      <td>0</td>\n",
              "      <td>0</td>\n",
              "      <td>0</td>\n",
              "      <td>0</td>\n",
              "      <td>0</td>\n",
              "      <td>0</td>\n",
              "      <td>0</td>\n",
              "      <td>0</td>\n",
              "      <td>0</td>\n",
              "      <td>0</td>\n",
              "      <td>0</td>\n",
              "      <td>0</td>\n",
              "      <td>0</td>\n",
              "      <td>0</td>\n",
              "      <td>0</td>\n",
              "      <td>0</td>\n",
              "      <td>0</td>\n",
              "      <td>0</td>\n",
              "      <td>0</td>\n",
              "      <td>0</td>\n",
              "      <td>0</td>\n",
              "      <td>0</td>\n",
              "      <td>0</td>\n",
              "      <td>0</td>\n",
              "      <td>0</td>\n",
              "      <td>0</td>\n",
              "      <td>0</td>\n",
              "      <td>0</td>\n",
              "      <td>1</td>\n",
              "      <td>0</td>\n",
              "      <td>0</td>\n",
              "      <td>0</td>\n",
              "      <td>0</td>\n",
              "    </tr>\n",
              "  </tbody>\n",
              "</table>\n",
              "<p>5 rows × 162 columns</p>\n",
              "</div>\n",
              "      <button class=\"colab-df-convert\" onclick=\"convertToInteractive('df-541e9f63-b4d0-4f7f-b63a-b0f13f7558df')\"\n",
              "              title=\"Convert this dataframe to an interactive table.\"\n",
              "              style=\"display:none;\">\n",
              "        \n",
              "  <svg xmlns=\"http://www.w3.org/2000/svg\" height=\"24px\"viewBox=\"0 0 24 24\"\n",
              "       width=\"24px\">\n",
              "    <path d=\"M0 0h24v24H0V0z\" fill=\"none\"/>\n",
              "    <path d=\"M18.56 5.44l.94 2.06.94-2.06 2.06-.94-2.06-.94-.94-2.06-.94 2.06-2.06.94zm-11 1L8.5 8.5l.94-2.06 2.06-.94-2.06-.94L8.5 2.5l-.94 2.06-2.06.94zm10 10l.94 2.06.94-2.06 2.06-.94-2.06-.94-.94-2.06-.94 2.06-2.06.94z\"/><path d=\"M17.41 7.96l-1.37-1.37c-.4-.4-.92-.59-1.43-.59-.52 0-1.04.2-1.43.59L10.3 9.45l-7.72 7.72c-.78.78-.78 2.05 0 2.83L4 21.41c.39.39.9.59 1.41.59.51 0 1.02-.2 1.41-.59l7.78-7.78 2.81-2.81c.8-.78.8-2.07 0-2.86zM5.41 20L4 18.59l7.72-7.72 1.47 1.35L5.41 20z\"/>\n",
              "  </svg>\n",
              "      </button>\n",
              "      \n",
              "  <style>\n",
              "    .colab-df-container {\n",
              "      display:flex;\n",
              "      flex-wrap:wrap;\n",
              "      gap: 12px;\n",
              "    }\n",
              "\n",
              "    .colab-df-convert {\n",
              "      background-color: #E8F0FE;\n",
              "      border: none;\n",
              "      border-radius: 50%;\n",
              "      cursor: pointer;\n",
              "      display: none;\n",
              "      fill: #1967D2;\n",
              "      height: 32px;\n",
              "      padding: 0 0 0 0;\n",
              "      width: 32px;\n",
              "    }\n",
              "\n",
              "    .colab-df-convert:hover {\n",
              "      background-color: #E2EBFA;\n",
              "      box-shadow: 0px 1px 2px rgba(60, 64, 67, 0.3), 0px 1px 3px 1px rgba(60, 64, 67, 0.15);\n",
              "      fill: #174EA6;\n",
              "    }\n",
              "\n",
              "    [theme=dark] .colab-df-convert {\n",
              "      background-color: #3B4455;\n",
              "      fill: #D2E3FC;\n",
              "    }\n",
              "\n",
              "    [theme=dark] .colab-df-convert:hover {\n",
              "      background-color: #434B5C;\n",
              "      box-shadow: 0px 1px 3px 1px rgba(0, 0, 0, 0.15);\n",
              "      filter: drop-shadow(0px 1px 2px rgba(0, 0, 0, 0.3));\n",
              "      fill: #FFFFFF;\n",
              "    }\n",
              "  </style>\n",
              "\n",
              "      <script>\n",
              "        const buttonEl =\n",
              "          document.querySelector('#df-541e9f63-b4d0-4f7f-b63a-b0f13f7558df button.colab-df-convert');\n",
              "        buttonEl.style.display =\n",
              "          google.colab.kernel.accessAllowed ? 'block' : 'none';\n",
              "\n",
              "        async function convertToInteractive(key) {\n",
              "          const element = document.querySelector('#df-541e9f63-b4d0-4f7f-b63a-b0f13f7558df');\n",
              "          const dataTable =\n",
              "            await google.colab.kernel.invokeFunction('convertToInteractive',\n",
              "                                                     [key], {});\n",
              "          if (!dataTable) return;\n",
              "\n",
              "          const docLinkHtml = 'Like what you see? Visit the ' +\n",
              "            '<a target=\"_blank\" href=https://colab.research.google.com/notebooks/data_table.ipynb>data table notebook</a>'\n",
              "            + ' to learn more about interactive tables.';\n",
              "          element.innerHTML = '';\n",
              "          dataTable['output_type'] = 'display_data';\n",
              "          await google.colab.output.renderOutput(dataTable, element);\n",
              "          const docLink = document.createElement('div');\n",
              "          docLink.innerHTML = docLinkHtml;\n",
              "          element.appendChild(docLink);\n",
              "        }\n",
              "      </script>\n",
              "    </div>\n",
              "  </div>\n",
              "  "
            ],
            "text/plain": [
              "     Idade    Situacao  ...  Partido_REPUBLICANOS  Partido_SOLIDARIEDADE\n",
              "32      55    Suplente  ...                     0                      0\n",
              "67      51    Suplente  ...                     0                      0\n",
              "105     56    Suplente  ...                     0                      0\n",
              "108     39  Nao Eleito  ...                     0                      0\n",
              "120     49  Nao Eleito  ...                     0                      0\n",
              "\n",
              "[5 rows x 162 columns]"
            ]
          },
          "metadata": {},
          "execution_count": 31
        }
      ]
    },
    {
      "cell_type": "markdown",
      "source": [
        "# Um boa pratica para facilitar a separação de X e Y é deixar a variavel Y nos extremos do dataset, isso facilitara mais a frente, por isso eu exclui a coluna e coloquei ela de volta no final do dataset."
      ],
      "metadata": {
        "id": "1A2cCBCD8txX"
      }
    },
    {
      "cell_type": "code",
      "source": [
        "column_to_reorder  = m_dados.pop('Situacao')\n",
        "m_dados.insert(len(m_dados. columns), 'Situacao', column_to_reorder)\n",
        "m_dados.to_csv(\"Eleicao.csv\",  index = False)\n",
        "m_dados.info()\n"
      ],
      "metadata": {
        "colab": {
          "base_uri": "https://localhost:8080/"
        },
        "id": "6o8KBi5BwVBP",
        "outputId": "a5d4e48c-5574-4245-8270-ddf312d3ce0b"
      },
      "execution_count": 32,
      "outputs": [
        {
          "output_type": "stream",
          "name": "stdout",
          "text": [
            "<class 'pandas.core.frame.DataFrame'>\n",
            "Int64Index: 797 entries, 32 to 26458\n",
            "Columns: 162 entries, Idade to Situacao\n",
            "dtypes: float64(2), int64(1), object(1), uint8(158)\n",
            "memory usage: 154.1+ KB\n"
          ]
        }
      ]
    },
    {
      "cell_type": "markdown",
      "source": [
        "# Sabendo que o numero de colunas no dataset eu posso separar X e Y, sabendo que Y esta na ultima coluna eu irei pegar todas para X exceto a ultima e para Y somente a ultima claro."
      ],
      "metadata": {
        "id": "ancTZIOG9XWX"
      }
    },
    {
      "cell_type": "markdown",
      "source": [
        "## Separei x e y para começar  a treinar meu modelo"
      ],
      "metadata": {
        "id": "-sdcbbG2zi4y"
      }
    },
    {
      "cell_type": "code",
      "source": [
        "#len(m_dados.columns)\n",
        "dados_final = m_dados.values\n",
        "X = dados_final[:,0:161].astype('float32')\n",
        "X\n"
      ],
      "metadata": {
        "colab": {
          "base_uri": "https://localhost:8080/"
        },
        "id": "3Ytzq9QAoZ94",
        "outputId": "df23ec4f-2a84-4e40-8190-5d8847d2a651"
      },
      "execution_count": 33,
      "outputs": [
        {
          "output_type": "execute_result",
          "data": {
            "text/plain": [
              "array([[   55.   , 10000.   , 11701.38 , ...,     0.   ,     0.   ,\n",
              "            0.   ],\n",
              "       [   51.   ,  6434.128,  1179.7  , ...,     0.   ,     0.   ,\n",
              "            0.   ],\n",
              "       [   56.   ,  6434.128,  8246.85 , ...,     0.   ,     0.   ,\n",
              "            0.   ],\n",
              "       ...,\n",
              "       [   43.   ,  6434.128,  1387.04 , ...,     0.   ,     0.   ,\n",
              "            0.   ],\n",
              "       [   53.   ,  6434.128,   187.5  , ...,     0.   ,     0.   ,\n",
              "            0.   ],\n",
              "       [   57.   ,   680.   ,  6191.85 , ...,     0.   ,     0.   ,\n",
              "            0.   ]], dtype=float32)"
            ]
          },
          "metadata": {},
          "execution_count": 33
        }
      ]
    },
    {
      "cell_type": "code",
      "source": [
        "Y=dados_final[:,161] #Atenção ainda esta com tipo string.\n",
        "#Y"
      ],
      "metadata": {
        "id": "xYrz1L9ZqpKN"
      },
      "execution_count": 34,
      "outputs": []
    },
    {
      "cell_type": "markdown",
      "source": [
        "##Ao modelar problemas de classificação multiclasse usando redes neurais, é uma boa prática remodelar o atributo de saída de um vetor que contém valores para cada valor de classe para ser uma matriz com um booleano para cada valor de classe e se uma determinada instância tem ou não isso valor da classe ou não."
      ],
      "metadata": {
        "id": "213EQGr53luz"
      }
    },
    {
      "cell_type": "code",
      "source": [
        "encoder = LabelEncoder()\n",
        "encoder.fit(Y)\n",
        "encoded_Y = encoder.transform(Y)"
      ],
      "metadata": {
        "id": "td34PWtBbVPC"
      },
      "execution_count": 35,
      "outputs": []
    },
    {
      "cell_type": "markdown",
      "source": [
        "##Podemos fazer isso primeiro codificando as strings de forma consistente para inteiros usando a classe LabelEncoder do scikit-learn. Depois podemos converter o vetor de inteiros em uma codificação única usando a função Keras to_categorical ()."
      ],
      "metadata": {
        "id": "-lADPBCt-CkW"
      }
    },
    {
      "cell_type": "code",
      "source": [
        "dummy_y = np_utils.to_categorical(encoded_Y)\n",
        "dummy_y"
      ],
      "metadata": {
        "id": "DBI9anxDrBKr",
        "colab": {
          "base_uri": "https://localhost:8080/"
        },
        "outputId": "d60cb4fa-dd3a-49fb-a780-2b566e073a12"
      },
      "execution_count": 36,
      "outputs": [
        {
          "output_type": "execute_result",
          "data": {
            "text/plain": [
              "array([[0., 0., 1.],\n",
              "       [0., 0., 1.],\n",
              "       [0., 0., 1.],\n",
              "       ...,\n",
              "       [0., 1., 0.],\n",
              "       [0., 1., 0.],\n",
              "       [0., 0., 1.]], dtype=float32)"
            ]
          },
          "metadata": {},
          "execution_count": 36
        }
      ]
    },
    {
      "cell_type": "markdown",
      "source": [
        "# Agora minha variavel Y esta pronta, tiver que fazer isso pois o modelo tera  3 saidas pois temos multivalores possiveis"
      ],
      "metadata": {
        "id": "aPzxXFyv-TSi"
      }
    },
    {
      "cell_type": "code",
      "source": [
        "checkpoint_dir = './training_checkpoints'\n",
        "checkpoint_prefix = os.path.join(checkpoint_dir, 'ckpt_{epoch}')\n",
        "checkpoint_callback = tf.keras.callbacks.ModelCheckpoint(filepath=checkpoint_prefix, save_weights_only=True)"
      ],
      "metadata": {
        "id": "zm2B5PpEAv6c"
      },
      "execution_count": 37,
      "outputs": []
    },
    {
      "cell_type": "code",
      "source": [
        "min_max_scaler = preprocessing.MinMaxScaler()\n",
        "X_scale = min_max_scaler.fit_transform(X)\n",
        "print(X_scale)"
      ],
      "metadata": {
        "colab": {
          "base_uri": "https://localhost:8080/"
        },
        "id": "CfiPTyFx9kns",
        "outputId": "8eb31696-bc04-41c8-9b7e-ead0ef20adb1"
      },
      "execution_count": 38,
      "outputs": [
        {
          "output_type": "stream",
          "name": "stdout",
          "text": [
            "[[0.6140351  0.0938732  0.10905632 ... 0.         0.         0.        ]\n",
            " [0.5438596  0.06036907 0.01070098 ... 0.         0.         0.        ]\n",
            " [0.6315789  0.06036907 0.0767638  ... 0.         0.         0.        ]\n",
            " ...\n",
            " [0.40350875 0.06036907 0.01263917 ... 0.         0.         0.        ]\n",
            " [0.5789474  0.06036907 0.00142602 ... 0.         0.         0.        ]\n",
            " [0.64912283 0.00630457 0.05755392 ... 0.         0.         0.        ]]\n"
          ]
        }
      ]
    },
    {
      "cell_type": "markdown",
      "source": [
        "# Aqui vou aplicar o SMOTE SMOTE (Synthetic Minority Over-sampling Technique) que ira gerar dados sinteticos para classe minoritaria no caso a variavel ELEITO"
      ],
      "metadata": {
        "id": "ZMQHudx7Sc0i"
      }
    },
    {
      "cell_type": "code",
      "source": [
        "from imblearn.over_sampling import SMOTE \n",
        "smt = SMOTE()\n",
        "X_scale, dummy_y = smt.fit_resample(X_scale, dummy_y)"
      ],
      "metadata": {
        "id": "9pL-7_MQPSDk"
      },
      "execution_count": 39,
      "outputs": []
    },
    {
      "cell_type": "markdown",
      "source": [
        "# Agora irei separar dados de Treino, Teste e o de validação, pois no final vou conferir o quanto esse algoritimo esta em relação aos dados de treino."
      ],
      "metadata": {
        "id": "aYvPl8r6-2iw"
      }
    },
    {
      "cell_type": "code",
      "source": [
        "X_train, X_val_and_test, Y_train, Y_val_and_test = train_test_split(X_scale, dummy_y, test_size=0.3)\n",
        "X_val, X_test, Y_val, Y_test = train_test_split(X_val_and_test, Y_val_and_test, test_size=0.5)\n",
        "print(X_train.shape, X_val.shape, X_test.shape, Y_train.shape, Y_val.shape, Y_test.shape)\n"
      ],
      "metadata": {
        "colab": {
          "base_uri": "https://localhost:8080/"
        },
        "id": "krCBltKQRI8D",
        "outputId": "735e574e-754c-4fff-c05b-0473bc9d0c4b"
      },
      "execution_count": 40,
      "outputs": [
        {
          "output_type": "stream",
          "name": "stdout",
          "text": [
            "(1037, 161) (222, 161) (223, 161) (1037, 3) (222, 3) (223, 3)\n"
          ]
        }
      ]
    },
    {
      "cell_type": "code",
      "source": [
        "model = Sequential([\n",
        "    Dense(4, activation='relu', input_dim=161),\n",
        "    Dense(1, activation='relu'),\n",
        "    Dense(3, activation='softmax'),\n",
        "])\n",
        "model.compile(loss='categorical_crossentropy', optimizer='adam', metrics=['accuracy'])"
      ],
      "metadata": {
        "id": "4lB1_g5WQRZ6"
      },
      "execution_count": 41,
      "outputs": []
    },
    {
      "cell_type": "code",
      "source": [
        "model.summary()"
      ],
      "metadata": {
        "colab": {
          "base_uri": "https://localhost:8080/"
        },
        "id": "Uo9PpPAUDoHX",
        "outputId": "093afde8-cf5a-404f-adc5-62a996c1dbd4"
      },
      "execution_count": 42,
      "outputs": [
        {
          "output_type": "stream",
          "name": "stdout",
          "text": [
            "Model: \"sequential\"\n",
            "_________________________________________________________________\n",
            " Layer (type)                Output Shape              Param #   \n",
            "=================================================================\n",
            " dense (Dense)               (None, 4)                 648       \n",
            "                                                                 \n",
            " dense_1 (Dense)             (None, 1)                 5         \n",
            "                                                                 \n",
            " dense_2 (Dense)             (None, 3)                 6         \n",
            "                                                                 \n",
            "=================================================================\n",
            "Total params: 659\n",
            "Trainable params: 659\n",
            "Non-trainable params: 0\n",
            "_________________________________________________________________\n"
          ]
        }
      ]
    },
    {
      "cell_type": "code",
      "source": [
        "checkpoint_dir = './training_checkpoints'\n",
        "checkpoint_prefix = os.path.join(checkpoint_dir, 'ckpt_{epoch}')\n",
        "checkpoint_callback = tf.keras.callbacks.ModelCheckpoint(filepath=checkpoint_prefix, save_weights_only=True)"
      ],
      "metadata": {
        "id": "qg5E4Io0_wnJ"
      },
      "execution_count": 43,
      "outputs": []
    },
    {
      "cell_type": "code",
      "source": [
        "%%time\n",
        "hist = model.fit(X_train, Y_train,\n",
        "          batch_size=10, epochs=80,\n",
        "          validation_data=(X_val, Y_val),callbacks=[checkpoint_callback])"
      ],
      "metadata": {
        "colab": {
          "base_uri": "https://localhost:8080/"
        },
        "id": "2kKV0lbdQLWK",
        "outputId": "de7c3e04-8d72-41f6-c080-3b3a74e2a461"
      },
      "execution_count": 44,
      "outputs": [
        {
          "output_type": "stream",
          "name": "stdout",
          "text": [
            "Epoch 1/80\n",
            "104/104 [==============================] - 1s 4ms/step - loss: 1.0919 - accuracy: 0.4012 - val_loss: 1.0826 - val_accuracy: 0.4640\n",
            "Epoch 2/80\n",
            "104/104 [==============================] - 0s 3ms/step - loss: 1.0649 - accuracy: 0.5024 - val_loss: 1.0201 - val_accuracy: 0.5045\n",
            "Epoch 3/80\n",
            "104/104 [==============================] - 0s 2ms/step - loss: 0.9735 - accuracy: 0.5911 - val_loss: 0.9032 - val_accuracy: 0.6306\n",
            "Epoch 4/80\n",
            "104/104 [==============================] - 0s 2ms/step - loss: 0.8638 - accuracy: 0.6538 - val_loss: 0.8081 - val_accuracy: 0.6577\n",
            "Epoch 5/80\n",
            "104/104 [==============================] - 0s 2ms/step - loss: 0.7792 - accuracy: 0.6779 - val_loss: 0.7429 - val_accuracy: 0.6622\n",
            "Epoch 6/80\n",
            "104/104 [==============================] - 0s 2ms/step - loss: 0.7228 - accuracy: 0.6770 - val_loss: 0.6980 - val_accuracy: 0.6802\n",
            "Epoch 7/80\n",
            "104/104 [==============================] - 0s 3ms/step - loss: 0.6837 - accuracy: 0.6837 - val_loss: 0.6655 - val_accuracy: 0.6802\n",
            "Epoch 8/80\n",
            "104/104 [==============================] - 0s 2ms/step - loss: 0.6558 - accuracy: 0.6731 - val_loss: 0.6422 - val_accuracy: 0.6712\n",
            "Epoch 9/80\n",
            "104/104 [==============================] - 0s 2ms/step - loss: 0.6347 - accuracy: 0.6779 - val_loss: 0.6242 - val_accuracy: 0.6757\n",
            "Epoch 10/80\n",
            "104/104 [==============================] - 0s 2ms/step - loss: 0.6184 - accuracy: 0.6798 - val_loss: 0.6111 - val_accuracy: 0.6622\n",
            "Epoch 11/80\n",
            "104/104 [==============================] - 0s 2ms/step - loss: 0.6051 - accuracy: 0.6779 - val_loss: 0.5984 - val_accuracy: 0.6622\n",
            "Epoch 12/80\n",
            "104/104 [==============================] - 0s 2ms/step - loss: 0.5937 - accuracy: 0.6798 - val_loss: 0.5893 - val_accuracy: 0.6622\n",
            "Epoch 13/80\n",
            "104/104 [==============================] - 0s 2ms/step - loss: 0.5841 - accuracy: 0.6798 - val_loss: 0.5822 - val_accuracy: 0.6667\n",
            "Epoch 14/80\n",
            "104/104 [==============================] - 0s 3ms/step - loss: 0.5757 - accuracy: 0.6818 - val_loss: 0.5749 - val_accuracy: 0.6667\n",
            "Epoch 15/80\n",
            "104/104 [==============================] - 0s 3ms/step - loss: 0.5685 - accuracy: 0.6847 - val_loss: 0.5685 - val_accuracy: 0.6622\n",
            "Epoch 16/80\n",
            "104/104 [==============================] - 0s 3ms/step - loss: 0.5622 - accuracy: 0.6885 - val_loss: 0.5641 - val_accuracy: 0.6757\n",
            "Epoch 17/80\n",
            "104/104 [==============================] - 0s 2ms/step - loss: 0.5566 - accuracy: 0.6953 - val_loss: 0.5592 - val_accuracy: 0.6847\n",
            "Epoch 18/80\n",
            "104/104 [==============================] - 0s 3ms/step - loss: 0.5511 - accuracy: 0.7059 - val_loss: 0.5554 - val_accuracy: 0.6982\n",
            "Epoch 19/80\n",
            "104/104 [==============================] - 0s 2ms/step - loss: 0.5456 - accuracy: 0.7136 - val_loss: 0.5519 - val_accuracy: 0.7162\n",
            "Epoch 20/80\n",
            "104/104 [==============================] - 0s 2ms/step - loss: 0.5399 - accuracy: 0.7281 - val_loss: 0.5479 - val_accuracy: 0.7477\n",
            "Epoch 21/80\n",
            "104/104 [==============================] - 0s 2ms/step - loss: 0.5340 - accuracy: 0.7811 - val_loss: 0.5383 - val_accuracy: 0.7658\n",
            "Epoch 22/80\n",
            "104/104 [==============================] - 0s 3ms/step - loss: 0.5239 - accuracy: 0.8284 - val_loss: 0.5273 - val_accuracy: 0.7838\n",
            "Epoch 23/80\n",
            "104/104 [==============================] - 0s 2ms/step - loss: 0.5125 - accuracy: 0.8409 - val_loss: 0.5158 - val_accuracy: 0.8063\n",
            "Epoch 24/80\n",
            "104/104 [==============================] - 0s 2ms/step - loss: 0.4968 - accuracy: 0.8640 - val_loss: 0.4933 - val_accuracy: 0.8378\n",
            "Epoch 25/80\n",
            "104/104 [==============================] - 0s 2ms/step - loss: 0.4763 - accuracy: 0.8978 - val_loss: 0.4730 - val_accuracy: 0.8559\n",
            "Epoch 26/80\n",
            "104/104 [==============================] - 0s 2ms/step - loss: 0.4506 - accuracy: 0.9209 - val_loss: 0.4420 - val_accuracy: 0.8964\n",
            "Epoch 27/80\n",
            "104/104 [==============================] - 0s 3ms/step - loss: 0.4238 - accuracy: 0.9383 - val_loss: 0.4174 - val_accuracy: 0.9189\n",
            "Epoch 28/80\n",
            "104/104 [==============================] - 0s 2ms/step - loss: 0.3992 - accuracy: 0.9450 - val_loss: 0.3912 - val_accuracy: 0.9369\n",
            "Epoch 29/80\n",
            "104/104 [==============================] - 0s 3ms/step - loss: 0.3772 - accuracy: 0.9489 - val_loss: 0.3732 - val_accuracy: 0.9414\n",
            "Epoch 30/80\n",
            "104/104 [==============================] - 0s 3ms/step - loss: 0.3583 - accuracy: 0.9537 - val_loss: 0.3547 - val_accuracy: 0.9414\n",
            "Epoch 31/80\n",
            "104/104 [==============================] - 0s 2ms/step - loss: 0.3401 - accuracy: 0.9595 - val_loss: 0.3374 - val_accuracy: 0.9505\n",
            "Epoch 32/80\n",
            "104/104 [==============================] - 0s 2ms/step - loss: 0.3231 - accuracy: 0.9576 - val_loss: 0.3204 - val_accuracy: 0.9505\n",
            "Epoch 33/80\n",
            "104/104 [==============================] - 0s 2ms/step - loss: 0.3094 - accuracy: 0.9547 - val_loss: 0.3131 - val_accuracy: 0.9505\n",
            "Epoch 34/80\n",
            "104/104 [==============================] - 0s 2ms/step - loss: 0.2953 - accuracy: 0.9595 - val_loss: 0.2980 - val_accuracy: 0.9595\n",
            "Epoch 35/80\n",
            "104/104 [==============================] - 0s 2ms/step - loss: 0.2832 - accuracy: 0.9595 - val_loss: 0.2832 - val_accuracy: 0.9640\n",
            "Epoch 36/80\n",
            "104/104 [==============================] - 0s 2ms/step - loss: 0.2722 - accuracy: 0.9614 - val_loss: 0.2733 - val_accuracy: 0.9550\n",
            "Epoch 37/80\n",
            "104/104 [==============================] - 0s 3ms/step - loss: 0.2646 - accuracy: 0.9614 - val_loss: 0.2635 - val_accuracy: 0.9640\n",
            "Epoch 38/80\n",
            "104/104 [==============================] - 0s 2ms/step - loss: 0.2536 - accuracy: 0.9634 - val_loss: 0.2551 - val_accuracy: 0.9640\n",
            "Epoch 39/80\n",
            "104/104 [==============================] - 0s 2ms/step - loss: 0.2436 - accuracy: 0.9653 - val_loss: 0.2466 - val_accuracy: 0.9685\n",
            "Epoch 40/80\n",
            "104/104 [==============================] - 0s 3ms/step - loss: 0.2352 - accuracy: 0.9682 - val_loss: 0.2413 - val_accuracy: 0.9640\n",
            "Epoch 41/80\n",
            "104/104 [==============================] - 0s 2ms/step - loss: 0.2288 - accuracy: 0.9662 - val_loss: 0.2402 - val_accuracy: 0.9505\n",
            "Epoch 42/80\n",
            "104/104 [==============================] - 0s 3ms/step - loss: 0.2213 - accuracy: 0.9653 - val_loss: 0.2300 - val_accuracy: 0.9595\n",
            "Epoch 43/80\n",
            "104/104 [==============================] - 0s 2ms/step - loss: 0.2133 - accuracy: 0.9682 - val_loss: 0.2271 - val_accuracy: 0.9505\n",
            "Epoch 44/80\n",
            "104/104 [==============================] - 0s 3ms/step - loss: 0.2088 - accuracy: 0.9672 - val_loss: 0.2271 - val_accuracy: 0.9414\n",
            "Epoch 45/80\n",
            "104/104 [==============================] - 0s 2ms/step - loss: 0.2037 - accuracy: 0.9682 - val_loss: 0.2164 - val_accuracy: 0.9505\n",
            "Epoch 46/80\n",
            "104/104 [==============================] - 0s 2ms/step - loss: 0.1975 - accuracy: 0.9682 - val_loss: 0.2102 - val_accuracy: 0.9640\n",
            "Epoch 47/80\n",
            "104/104 [==============================] - 0s 2ms/step - loss: 0.1926 - accuracy: 0.9682 - val_loss: 0.2053 - val_accuracy: 0.9595\n",
            "Epoch 48/80\n",
            "104/104 [==============================] - 0s 2ms/step - loss: 0.1875 - accuracy: 0.9691 - val_loss: 0.1998 - val_accuracy: 0.9640\n",
            "Epoch 49/80\n",
            "104/104 [==============================] - 0s 2ms/step - loss: 0.1856 - accuracy: 0.9691 - val_loss: 0.1993 - val_accuracy: 0.9640\n",
            "Epoch 50/80\n",
            "104/104 [==============================] - 0s 2ms/step - loss: 0.1802 - accuracy: 0.9682 - val_loss: 0.1969 - val_accuracy: 0.9595\n",
            "Epoch 51/80\n",
            "104/104 [==============================] - 0s 2ms/step - loss: 0.1758 - accuracy: 0.9701 - val_loss: 0.1923 - val_accuracy: 0.9640\n",
            "Epoch 52/80\n",
            "104/104 [==============================] - 0s 2ms/step - loss: 0.1739 - accuracy: 0.9701 - val_loss: 0.1950 - val_accuracy: 0.9595\n",
            "Epoch 53/80\n",
            "104/104 [==============================] - 0s 2ms/step - loss: 0.1704 - accuracy: 0.9691 - val_loss: 0.1926 - val_accuracy: 0.9505\n",
            "Epoch 54/80\n",
            "104/104 [==============================] - 0s 2ms/step - loss: 0.1656 - accuracy: 0.9701 - val_loss: 0.1866 - val_accuracy: 0.9550\n",
            "Epoch 55/80\n",
            "104/104 [==============================] - 0s 3ms/step - loss: 0.1634 - accuracy: 0.9711 - val_loss: 0.1816 - val_accuracy: 0.9550\n",
            "Epoch 56/80\n",
            "104/104 [==============================] - 0s 2ms/step - loss: 0.1604 - accuracy: 0.9711 - val_loss: 0.1803 - val_accuracy: 0.9550\n",
            "Epoch 57/80\n",
            "104/104 [==============================] - 0s 2ms/step - loss: 0.1569 - accuracy: 0.9701 - val_loss: 0.1769 - val_accuracy: 0.9595\n",
            "Epoch 58/80\n",
            "104/104 [==============================] - 0s 3ms/step - loss: 0.1556 - accuracy: 0.9701 - val_loss: 0.1833 - val_accuracy: 0.9505\n",
            "Epoch 59/80\n",
            "104/104 [==============================] - 0s 3ms/step - loss: 0.1520 - accuracy: 0.9701 - val_loss: 0.1811 - val_accuracy: 0.9550\n",
            "Epoch 60/80\n",
            "104/104 [==============================] - 0s 2ms/step - loss: 0.1504 - accuracy: 0.9701 - val_loss: 0.1755 - val_accuracy: 0.9505\n",
            "Epoch 61/80\n",
            "104/104 [==============================] - 0s 2ms/step - loss: 0.1498 - accuracy: 0.9701 - val_loss: 0.1788 - val_accuracy: 0.9550\n",
            "Epoch 62/80\n",
            "104/104 [==============================] - 0s 2ms/step - loss: 0.1455 - accuracy: 0.9701 - val_loss: 0.1673 - val_accuracy: 0.9595\n",
            "Epoch 63/80\n",
            "104/104 [==============================] - 0s 3ms/step - loss: 0.1439 - accuracy: 0.9701 - val_loss: 0.1676 - val_accuracy: 0.9550\n",
            "Epoch 64/80\n",
            "104/104 [==============================] - 0s 2ms/step - loss: 0.1429 - accuracy: 0.9701 - val_loss: 0.1692 - val_accuracy: 0.9550\n",
            "Epoch 65/80\n",
            "104/104 [==============================] - 0s 3ms/step - loss: 0.1407 - accuracy: 0.9701 - val_loss: 0.1688 - val_accuracy: 0.9550\n",
            "Epoch 66/80\n",
            "104/104 [==============================] - 0s 2ms/step - loss: 0.1386 - accuracy: 0.9720 - val_loss: 0.1640 - val_accuracy: 0.9550\n",
            "Epoch 67/80\n",
            "104/104 [==============================] - 0s 3ms/step - loss: 0.1382 - accuracy: 0.9711 - val_loss: 0.1628 - val_accuracy: 0.9550\n",
            "Epoch 68/80\n",
            "104/104 [==============================] - 0s 2ms/step - loss: 0.1345 - accuracy: 0.9720 - val_loss: 0.1687 - val_accuracy: 0.9550\n",
            "Epoch 69/80\n",
            "104/104 [==============================] - 0s 2ms/step - loss: 0.1335 - accuracy: 0.9701 - val_loss: 0.1564 - val_accuracy: 0.9595\n",
            "Epoch 70/80\n",
            "104/104 [==============================] - 0s 3ms/step - loss: 0.1332 - accuracy: 0.9711 - val_loss: 0.1603 - val_accuracy: 0.9550\n",
            "Epoch 71/80\n",
            "104/104 [==============================] - 0s 2ms/step - loss: 0.1312 - accuracy: 0.9720 - val_loss: 0.1711 - val_accuracy: 0.9459\n",
            "Epoch 72/80\n",
            "104/104 [==============================] - 0s 2ms/step - loss: 0.1322 - accuracy: 0.9730 - val_loss: 0.1566 - val_accuracy: 0.9550\n",
            "Epoch 73/80\n",
            "104/104 [==============================] - 0s 3ms/step - loss: 0.1308 - accuracy: 0.9720 - val_loss: 0.1600 - val_accuracy: 0.9550\n",
            "Epoch 74/80\n",
            "104/104 [==============================] - 0s 3ms/step - loss: 0.1280 - accuracy: 0.9720 - val_loss: 0.1590 - val_accuracy: 0.9550\n",
            "Epoch 75/80\n",
            "104/104 [==============================] - 0s 3ms/step - loss: 0.1272 - accuracy: 0.9720 - val_loss: 0.1557 - val_accuracy: 0.9550\n",
            "Epoch 76/80\n",
            "104/104 [==============================] - 0s 3ms/step - loss: 0.1274 - accuracy: 0.9720 - val_loss: 0.1559 - val_accuracy: 0.9550\n",
            "Epoch 77/80\n",
            "104/104 [==============================] - 0s 2ms/step - loss: 0.1253 - accuracy: 0.9720 - val_loss: 0.1559 - val_accuracy: 0.9550\n",
            "Epoch 78/80\n",
            "104/104 [==============================] - 0s 2ms/step - loss: 0.1235 - accuracy: 0.9730 - val_loss: 0.1521 - val_accuracy: 0.9595\n",
            "Epoch 79/80\n",
            "104/104 [==============================] - 0s 3ms/step - loss: 0.1232 - accuracy: 0.9720 - val_loss: 0.1517 - val_accuracy: 0.9550\n",
            "Epoch 80/80\n",
            "104/104 [==============================] - 0s 2ms/step - loss: 0.1219 - accuracy: 0.9740 - val_loss: 0.1496 - val_accuracy: 0.9595\n",
            "CPU times: user 20.8 s, sys: 1.64 s, total: 22.5 s\n",
            "Wall time: 41.7 s\n"
          ]
        }
      ]
    },
    {
      "cell_type": "code",
      "source": [
        "tf.train.latest_checkpoint(checkpoint_dir)"
      ],
      "metadata": {
        "colab": {
          "base_uri": "https://localhost:8080/",
          "height": 35
        },
        "id": "ZxJPUNqG_qvO",
        "outputId": "7487fe20-ae19-464b-d60c-2b11af781919"
      },
      "execution_count": 45,
      "outputs": [
        {
          "output_type": "execute_result",
          "data": {
            "application/vnd.google.colaboratory.intrinsic+json": {
              "type": "string"
            },
            "text/plain": [
              "'./training_checkpoints/ckpt_80'"
            ]
          },
          "metadata": {},
          "execution_count": 45
        }
      ]
    },
    {
      "cell_type": "code",
      "source": [
        "latest = tf.train.latest_checkpoint(checkpoint_dir)\n",
        "latest"
      ],
      "metadata": {
        "colab": {
          "base_uri": "https://localhost:8080/",
          "height": 35
        },
        "id": "RTcpV5OQN9pu",
        "outputId": "df8e472c-1131-4d89-b53e-daf1d1965ecc"
      },
      "execution_count": 46,
      "outputs": [
        {
          "output_type": "execute_result",
          "data": {
            "application/vnd.google.colaboratory.intrinsic+json": {
              "type": "string"
            },
            "text/plain": [
              "'./training_checkpoints/ckpt_80'"
            ]
          },
          "metadata": {},
          "execution_count": 46
        }
      ]
    },
    {
      "cell_type": "markdown",
      "source": [
        "## [[SUPLETE],[NAO ELEITO],[ELEITO]]"
      ],
      "metadata": {
        "id": "dYFLPGl-MoWP"
      }
    },
    {
      "cell_type": "code",
      "source": [
        "score = model.evaluate(X_train, Y_train, verbose=0)\n",
        "print(\"%s: %.2f%%\" % (model.metrics_names[1], score[1]*100))"
      ],
      "metadata": {
        "colab": {
          "base_uri": "https://localhost:8080/"
        },
        "id": "asEY49smJBLf",
        "outputId": "f315b411-c89b-4f9c-8df7-8ad013122dff"
      },
      "execution_count": 47,
      "outputs": [
        {
          "output_type": "stream",
          "name": "stdout",
          "text": [
            "accuracy: 97.59%\n"
          ]
        }
      ]
    },
    {
      "cell_type": "markdown",
      "source": [
        "# OBS: Sem o metodo SMOTE ou NearMiss por exemplo eu chegaria numa acuracia bem parecida, mas para provar que o modelo esta balanceado e o algoritimo so não acertou 95% por que 95% era suplente. aqui reduzimos isso pois o modelo não se \"Viciou na classe majoritaria\""
      ],
      "metadata": {
        "id": "hdAPeVJPUmHp"
      }
    },
    {
      "cell_type": "code",
      "source": [
        "from sklearn.metrics import classification_report\n",
        "prediction = model.predict(X_test[1:220])\n",
        "report = classification_report(Y_val[1:220], prediction.round())\n",
        "print(report)"
      ],
      "metadata": {
        "colab": {
          "base_uri": "https://localhost:8080/"
        },
        "id": "4N8DuMLlU_jM",
        "outputId": "236a8f76-3b3c-4480-8275-1a8b3e75cc47"
      },
      "execution_count": 73,
      "outputs": [
        {
          "output_type": "stream",
          "name": "stdout",
          "text": [
            "              precision    recall  f1-score   support\n",
            "\n",
            "           0       0.34      0.32      0.33        72\n",
            "           1       0.35      0.37      0.36        75\n",
            "           2       0.32      0.32      0.32        72\n",
            "\n",
            "   micro avg       0.34      0.34      0.34       219\n",
            "   macro avg       0.34      0.34      0.34       219\n",
            "weighted avg       0.34      0.34      0.34       219\n",
            " samples avg       0.34      0.34      0.34       219\n",
            "\n"
          ]
        }
      ]
    },
    {
      "cell_type": "code",
      "source": [
        "prediction = model.predict(X_test[1:2]) # nao eleito, ultimo suplente\n",
        "print(prediction)\n",
        "print(prediction[0,0:1])\n",
        "print(prediction[0,1:2])\n",
        "print(prediction[0,2:])\n",
        "if prediction[0,2:]> prediction[0,0:1] and prediction[0,2:]> prediction[0,1:2]:\n",
        "  print(\"Não sera eleito mas tem chances de ser suplente\")\n",
        "elif prediction[0,0:1] > prediction[0,2:]  and prediction[0,0:1] > prediction[0,1:2]:\n",
        "  print(\"Candidato sera eleito\")\n",
        "else :\n",
        "  print(\"Não sera eleito\")\n",
        "\n"
      ],
      "metadata": {
        "colab": {
          "base_uri": "https://localhost:8080/"
        },
        "id": "aemH3IgwevD1",
        "outputId": "9aeec7e6-eb39-4006-8f6b-fcf84781413c"
      },
      "execution_count": 48,
      "outputs": [
        {
          "output_type": "stream",
          "name": "stdout",
          "text": [
            "[[3.2345968e-33 9.9598491e-01 4.0151109e-03]]\n",
            "[3.2345968e-33]\n",
            "[0.9959849]\n",
            "[0.00401511]\n",
            "não sera eleito\n"
          ]
        }
      ]
    },
    {
      "cell_type": "markdown",
      "source": [
        ""
      ],
      "metadata": {
        "id": "figgxeVui-5M"
      }
    },
    {
      "cell_type": "markdown",
      "source": [
        "## Na predição acima entao que provavelmente o candidato seria eleito"
      ],
      "metadata": {
        "id": "RUo23_1YThvB"
      }
    },
    {
      "cell_type": "markdown",
      "source": [
        "#Modelo treinado salvado e testado, agora vou demonstrar algumas visualizações para ver se realmente esta coerente com a realidade."
      ],
      "metadata": {
        "id": "8F8yWgXxDRpS"
      }
    },
    {
      "cell_type": "code",
      "source": [
        "import matplotlib.pyplot as plt\n",
        "plt.plot(hist.history['loss'])\n",
        "plt.plot(hist.history['val_loss'])\n",
        "plt.title('Model loss')\n",
        "plt.ylabel('Loss')\n",
        "plt.xlabel('Epoch')\n",
        "plt.legend(['Train', 'Val'], loc='upper right')\n",
        "plt.show()"
      ],
      "metadata": {
        "id": "0ruhQrHRRX9H",
        "colab": {
          "base_uri": "https://localhost:8080/",
          "height": 295
        },
        "outputId": "93a773c1-6206-429c-b2f8-55c21197912a"
      },
      "execution_count": 49,
      "outputs": [
        {
          "output_type": "display_data",
          "data": {
            "image/png": "[encoded data removed]",
            "text/plain": [
              "<Figure size 432x288 with 1 Axes>"
            ]
          },
          "metadata": {
            "needs_background": "light"
          }
        }
      ]
    },
    {
      "cell_type": "code",
      "source": [
        "plt.plot(hist.history['accuracy'])\n",
        "plt.plot(hist.history['val_accuracy'])\n",
        "plt.title('Model accuracy')\n",
        "plt.ylabel('Accuracy')\n",
        "plt.xlabel('Epoch')\n",
        "plt.legend(['Train', 'Val'], loc='lower right')\n",
        "plt.show()"
      ],
      "metadata": {
        "id": "yosMg-eTRkIq",
        "colab": {
          "base_uri": "https://localhost:8080/",
          "height": 295
        },
        "outputId": "77fd060e-9e21-4a0c-bc65-435dc2c32666"
      },
      "execution_count": 50,
      "outputs": [
        {
          "output_type": "display_data",
          "data": {
            "image/png": "[encoded data removed]",
            "text/plain": [
              "<Figure size 432x288 with 1 Axes>"
            ]
          },
          "metadata": {
            "needs_background": "light"
          }
        }
      ]
    },
    {
      "cell_type": "code",
      "source": [
        "entrada=m_dados.copy()\n",
        "entrada.pop('Situacao') \n",
        "colunas=entrada.columns\n",
        "print(colunas)"
      ],
      "metadata": {
        "colab": {
          "base_uri": "https://localhost:8080/"
        },
        "id": "k2d4uetkjYeD",
        "outputId": "2ddfce27-9909-4c24-c8da-5369b88f05e7"
      },
      "execution_count": 51,
      "outputs": [
        {
          "output_type": "stream",
          "name": "stdout",
          "text": [
            "Index(['Idade', 'VR_DESPESA_CONTRATADA', 'VR_RECEITA', 'Genero_FEMININO',\n",
            "       'Genero_MASCULINO', 'Estado_civil_CASADO(A)',\n",
            "       'Estado_civil_DIVORCIADO(A)', 'Estado_civil_SEPARADO(A) JUDICIALMENTE',\n",
            "       'Estado_civil_SOLTEIRO(A)', 'Estado_civil_VIUVO(A)',\n",
            "       ...\n",
            "       'Partido_PARTIDO SOCIAL LIBERAL',\n",
            "       'Partido_PARTIDO SOCIALISMO E LIBERDADE',\n",
            "       'Partido_PARTIDO SOCIALISTA BRASILEIRO',\n",
            "       'Partido_PARTIDO TRABALHISTA BRASILEIRO',\n",
            "       'Partido_PARTIDO TRABALHISTA CRISTÃO', 'Partido_PATRIOTA',\n",
            "       'Partido_PODEMOS', 'Partido_REDE SUSTENTABILIDADE',\n",
            "       'Partido_REPUBLICANOS', 'Partido_SOLIDARIEDADE'],\n",
            "      dtype='object', length=161)\n"
          ]
        }
      ]
    },
    {
      "cell_type": "code",
      "source": [
        ""
      ],
      "metadata": {
        "id": "MF_Xk4rrzOxD"
      },
      "execution_count": 51,
      "outputs": []
    },
    {
      "cell_type": "code",
      "source": [
        "#SAVALNDO\n",
        "# serialize model to JSON\n",
        "model_json = model.to_json()\n",
        "with open(\"model.json\", \"w\") as json_file:\n",
        "    json_file.write(model_json)\n",
        "# serialize weights to HDF5\n",
        "model.save_weights(\"model.h5\")\n",
        "print(\"Saved model to disk\")\n",
        " \n",
        " "
      ],
      "metadata": {
        "id": "ueVOL0FRfq3V",
        "colab": {
          "base_uri": "https://localhost:8080/"
        },
        "outputId": "c5c4de29-6eb5-43a7-f15e-9ddcc07b786a"
      },
      "execution_count": 52,
      "outputs": [
        {
          "output_type": "stream",
          "name": "stdout",
          "text": [
            "Saved model to disk\n"
          ]
        }
      ]
    },
    {
      "cell_type": "code",
      "source": [
        "from keras.models import load_model\n",
        "from keras.models import model_from_json\n",
        "\n",
        "json_file = open('model.json', 'r')\n",
        "loaded_model_json = json_file.read()\n",
        "json_file.close()\n",
        "loaded_model = model_from_json(loaded_model_json)"
      ],
      "metadata": {
        "id": "XqMoBslNfvbG"
      },
      "execution_count": 53,
      "outputs": []
    },
    {
      "cell_type": "code",
      "source": [
        "\n",
        "loaded_model.load_weights(\"model.h5\")\n",
        "\n",
        "loaded_model.compile(loss='categorical_crossentropy', optimizer='adam', metrics=['accuracy'])\n",
        "score = loaded_model.evaluate(X_train, Y_train, verbose=0)\n",
        "print(\"%s: %.2f%%\" % (loaded_model.metrics_names[1], score[1]*100))\n"
      ],
      "metadata": {
        "id": "sa7NNxz9fxnu",
        "colab": {
          "base_uri": "https://localhost:8080/"
        },
        "outputId": "a269f7d0-6983-4431-8a8b-9209c7c8e83d"
      },
      "execution_count": 55,
      "outputs": [
        {
          "output_type": "stream",
          "name": "stdout",
          "text": [
            "accuracy: 97.59%\n"
          ]
        }
      ]
    },
    {
      "cell_type": "code",
      "source": [
        "model.save(\"my_model\")"
      ],
      "metadata": {
        "id": "dV7Vt1gVmLVG",
        "colab": {
          "base_uri": "https://localhost:8080/"
        },
        "outputId": "160fa49f-b788-4da7-b469-30dc88af0c7b"
      },
      "execution_count": 56,
      "outputs": [
        {
          "output_type": "stream",
          "name": "stdout",
          "text": [
            "INFO:tensorflow:Assets written to: my_model/assets\n"
          ]
        }
      ]
    },
    {
      "cell_type": "code",
      "source": [
        "#np.save('my_history.npy',hist.history)\n",
        "#history=np.load('my_history.npy',allow_pickle='TRUE').item()\n",
        "#history\n",
        "model_cb = tf.keras.callbacks.ModelCheckpoint(filepath=checkpoint_dir)\n",
        "history_cb = tf.keras.callbacks.CSVLogger('./log.csv', separator=\",\", append=False)\n"
      ],
      "metadata": {
        "id": "CvKvegquH9SI"
      },
      "execution_count": 57,
      "outputs": []
    }
  ]
}